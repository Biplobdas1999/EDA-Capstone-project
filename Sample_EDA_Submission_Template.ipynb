{
  "nbformat": 4,
  "nbformat_minor": 0,
  "metadata": {
    "colab": {
      "provenance": [],
      "collapsed_sections": [
        "beRrZCGUAJYm",
        "K5QZ13OEpz2H",
        "lQ7QKXXCp7Bj",
        "448CDAPjqfQr",
        "xJivPyE8q_2k",
        "azX1PEddq_20",
        "iyKleWeyq_20",
        "8-UX51ofq_21",
        "Of3PJYNbrGff",
        "w8bcvZxarGfg",
        "HZ6txCBBrGfh",
        "jbkhcZqdrGfh",
        "riLp7y9brHca",
        "Uw0GT_uHrHcb",
        "qTEiGUKorHcc",
        "1Qw8mtL3rHcd",
        "xnMZvg2orIPt",
        "mwHQVoIQrIPu",
        "Kwy5hImkrIPu",
        "0sjxqkK0rIPv",
        "y7avNpR9HL5z",
        "Z5yPuW4iHL50",
        "3vIdo55JHL50",
        "IlhlbgNBHL51",
        "oQ-pHCWMHO92",
        "DEMFeE18HO92",
        "MR3eS7xTHO93",
        "JmI1Y4YbHO93",
        "XGShqbS2HSAY",
        "B4XxyvTzHSAZ",
        "Mal1wQlpHSAZ",
        "BgP_e3WlHSAZ",
        "I3aNiIh9fKqZ",
        "hTF1e9PwfKqa",
        "1xrBLU6IfKqa",
        "yiLHMWFSfKqb",
        "NC_X3p0fY2L0",
        "UV0SzAkaZNRQ",
        "YPEH6qLeZNRQ",
        "q29F0dvdveiT",
        "EXh0U9oCveiU",
        "22aHeOlLveiV",
        "JcMwzZxoAimU",
        "8G2x9gOozGDZ",
        "gCX9965dhzqZ",
        "gIfDvo9L0UH2"
      ],
      "include_colab_link": true
    },
    "kernelspec": {
      "name": "python3",
      "display_name": "Python 3"
    },
    "language_info": {
      "name": "python"
    },
    "gpuClass": "standard"
  },
  "cells": [
    {
      "cell_type": "markdown",
      "metadata": {
        "id": "view-in-github",
        "colab_type": "text"
      },
      "source": [
        "<a href=\"https://colab.research.google.com/github/Biplobdas1999/EDA-Capstone-project/blob/main/Sample_EDA_Submission_Template.ipynb\" target=\"_parent\"><img src=\"https://colab.research.google.com/assets/colab-badge.svg\" alt=\"Open In Colab\"/></a>"
      ]
    },
    {
      "cell_type": "markdown",
      "source": [
        "# **Project Name**    -  **Hotel Booking Analysis**\n",
        "\n",
        "---\n",
        "\n",
        "\n"
      ],
      "metadata": {
        "id": "vncDsAP0Gaoa"
      }
    },
    {
      "cell_type": "markdown",
      "source": [
        "##### **Project Type**    - EDA\n",
        "##### **Contribution**    - Team\n"
      ],
      "metadata": {
        "id": "beRrZCGUAJYm"
      }
    },
    {
      "cell_type": "markdown",
      "source": [
        "##### **Team Member 1** - Biplob Das \n",
        "##### **Team Member 2** - Jishnu Saikia "
      ],
      "metadata": {
        "id": "wLZrNAN5hX61"
      }
    },
    {
      "cell_type": "markdown",
      "source": [
        "# **Problem Statement**\n"
      ],
      "metadata": {
        "id": "yQaldy8SH6Dl"
      }
    },
    {
      "cell_type": "markdown",
      "source": [
        "**BUSINESS PROBLEM OVERVIEW**\n",
        "\n",
        "\n",
        "Have you ever wondered when the best time of year to book a hotel room is? Or the optimal length of stay in order to get the best daily rate? What if you wanted to predict whether or not a hotel was likely to receive a disproportionately high number of special requests? This hotel booking dataset can help you explore those questions! This data set contains booking information for a city hotel and a resort hotel, and includes information such as when the booking was made, length of stay, the number of adults, children, and/or babies, and the number of available parking spaces, among other things. All personally identifying information has been removed from the data. Explore and analyze the data to discover important factors that govern the bookings."
      ],
      "metadata": {
        "id": "DpeJGUA3kjGy"
      }
    },
    {
      "cell_type": "markdown",
      "source": [
        "#### **Business Task** "
      ],
      "metadata": {
        "id": "PH-0ReGfmX4f"
      }
    },
    {
      "cell_type": "markdown",
      "source": [
        "Analyse the data on bookings of City Hotel and Resort Hotel to gain insights on the different factors that affect the booking. This is undertaken as an individual project"
      ],
      "metadata": {
        "id": "PhDvGCAqmjP1"
      }
    },
    {
      "cell_type": "markdown",
      "source": [
        "# **General Guidelines** : -  "
      ],
      "metadata": {
        "id": "mDgbUHAGgjLW"
      }
    },
    {
      "cell_type": "markdown",
      "source": [
        "1.   Well-structured, formatted, and commented code is required. \n",
        "2.   Exception Handling, Production Grade Code & Deployment Ready Code will be a plus. Those students will be awarded some additional credits. \n",
        "     \n",
        "     The additional credits will have advantages over other students during Star Student selection.\n",
        "       \n",
        "             [ Note: - Deployment Ready Code is defined as, the whole .ipynb notebook should be executable in one go\n",
        "                       without a single error logged. ]\n",
        "\n",
        "3.   Each and every logic should have proper comments.\n",
        "4. You may add as many number of charts you want. Make Sure for each and every chart the following format should be answered.\n",
        "        \n",
        "\n",
        "```\n",
        "# Chart visualization code\n",
        "```\n",
        "            \n",
        "\n",
        "*   Why did you pick the specific chart?\n",
        "*   What is/are the insight(s) found from the chart?\n",
        "* Will the gained insights help creating a positive business impact? \n",
        "Are there any insights that lead to negative growth? Justify with specific reason.\n",
        "\n",
        "\n",
        "5. You have to create at least 20 logical & meaningful charts having important insights.\n",
        "\n",
        "[ Hints : - Do the Vizualization in  a structured way while following \"UBM\" Rule. \n",
        "\n",
        "U - Univariate Analysis,\n",
        "\n",
        "B - Bivariate Analysis (Numerical - Categorical, Numerical - Numerical, Categorical - Categorical)\n",
        "\n",
        "M - Multivariate Analysis\n",
        " ]\n",
        "\n",
        "\n",
        "\n",
        "\n",
        "\n"
      ],
      "metadata": {
        "id": "ZrxVaUj-hHfC"
      }
    },
    {
      "cell_type": "markdown",
      "source": [
        "# ***Let's Begin !***"
      ],
      "metadata": {
        "id": "O_i_v8NEhb9l"
      }
    },
    {
      "cell_type": "markdown",
      "source": [
        "## ***1. Know Your Data***"
      ],
      "metadata": {
        "id": "HhfV-JJviCcP"
      }
    },
    {
      "cell_type": "markdown",
      "source": [
        "### Import Libraries"
      ],
      "metadata": {
        "id": "Y3lxredqlCYt"
      }
    },
    {
      "cell_type": "code",
      "source": [
        "# Import Libraries\n",
        "import numpy as np\n",
        "import pandas as pd\n",
        "import matplotlib.pyplot as plt\n",
        "%matplotlib inline\n",
        "import seaborn as sns\n",
        "import ast "
      ],
      "metadata": {
        "id": "M8Vqi-pPk-HR"
      },
      "execution_count": 1,
      "outputs": []
    },
    {
      "cell_type": "code",
      "source": [
        "from google.colab import drive\n",
        "drive.mount('/content/drive')"
      ],
      "metadata": {
        "id": "zTQ6C7iFJNDF",
        "colab": {
          "base_uri": "https://localhost:8080/"
        },
        "outputId": "e2c8995e-9506-4dd5-b433-5e060456cff1"
      },
      "execution_count": 2,
      "outputs": [
        {
          "output_type": "stream",
          "name": "stdout",
          "text": [
            "Mounted at /content/drive\n"
          ]
        }
      ]
    },
    {
      "cell_type": "markdown",
      "source": [
        "Dataset Link :- https://drive.google.com/file/d/1gJ3HNn3FsQq3apRWbz02Qmb33D9gnUmn/view?usp=share_link"
      ],
      "metadata": {
        "id": "iSvwnsSjLO4m"
      }
    },
    {
      "cell_type": "markdown",
      "source": [
        "### Dataset Loading"
      ],
      "metadata": {
        "id": "3RnN4peoiCZX"
      }
    },
    {
      "cell_type": "code",
      "source": [
        "# Load Dataset\n",
        "dataset = pd.read_csv('/content/drive/MyDrive/project/Hotel Bookings.csv')\n"
      ],
      "metadata": {
        "id": "4CkvbW_SlZ_R"
      },
      "execution_count": 20,
      "outputs": []
    },
    {
      "cell_type": "markdown",
      "source": [
        "### Dataset First View"
      ],
      "metadata": {
        "id": "x71ZqKXriCWQ"
      }
    },
    {
      "cell_type": "code",
      "source": [
        "# Dataset First \n",
        "dataset.head()"
      ],
      "metadata": {
        "id": "LWNFOSvLl09H",
        "colab": {
          "base_uri": "https://localhost:8080/",
          "height": 386
        },
        "outputId": "8dcc0e97-df23-441e-d171-3ffd3dd5cbf2"
      },
      "execution_count": 4,
      "outputs": [
        {
          "output_type": "execute_result",
          "data": {
            "text/plain": [
              "          hotel  is_canceled  lead_time  arrival_date_year arrival_date_month  \\\n",
              "0  Resort Hotel            0        342               2015               July   \n",
              "1  Resort Hotel            0        737               2015               July   \n",
              "2  Resort Hotel            0          7               2015               July   \n",
              "3  Resort Hotel            0         13               2015               July   \n",
              "4  Resort Hotel            0         14               2015               July   \n",
              "\n",
              "   arrival_date_week_number  arrival_date_day_of_month  \\\n",
              "0                        27                          1   \n",
              "1                        27                          1   \n",
              "2                        27                          1   \n",
              "3                        27                          1   \n",
              "4                        27                          1   \n",
              "\n",
              "   stays_in_weekend_nights  stays_in_week_nights  adults  ...  deposit_type  \\\n",
              "0                        0                     0       2  ...    No Deposit   \n",
              "1                        0                     0       2  ...    No Deposit   \n",
              "2                        0                     1       1  ...    No Deposit   \n",
              "3                        0                     1       1  ...    No Deposit   \n",
              "4                        0                     2       2  ...    No Deposit   \n",
              "\n",
              "   agent company days_in_waiting_list customer_type   adr  \\\n",
              "0    NaN     NaN                    0     Transient   0.0   \n",
              "1    NaN     NaN                    0     Transient   0.0   \n",
              "2    NaN     NaN                    0     Transient  75.0   \n",
              "3  304.0     NaN                    0     Transient  75.0   \n",
              "4  240.0     NaN                    0     Transient  98.0   \n",
              "\n",
              "   required_car_parking_spaces  total_of_special_requests  reservation_status  \\\n",
              "0                            0                          0           Check-Out   \n",
              "1                            0                          0           Check-Out   \n",
              "2                            0                          0           Check-Out   \n",
              "3                            0                          0           Check-Out   \n",
              "4                            0                          1           Check-Out   \n",
              "\n",
              "  reservation_status_date  \n",
              "0              2015-07-01  \n",
              "1              2015-07-01  \n",
              "2              2015-07-02  \n",
              "3              2015-07-02  \n",
              "4              2015-07-03  \n",
              "\n",
              "[5 rows x 32 columns]"
            ],
            "text/html": [
              "\n",
              "  <div id=\"df-1776b68c-4288-48b7-8970-2aabe15dcf96\">\n",
              "    <div class=\"colab-df-container\">\n",
              "      <div>\n",
              "<style scoped>\n",
              "    .dataframe tbody tr th:only-of-type {\n",
              "        vertical-align: middle;\n",
              "    }\n",
              "\n",
              "    .dataframe tbody tr th {\n",
              "        vertical-align: top;\n",
              "    }\n",
              "\n",
              "    .dataframe thead th {\n",
              "        text-align: right;\n",
              "    }\n",
              "</style>\n",
              "<table border=\"1\" class=\"dataframe\">\n",
              "  <thead>\n",
              "    <tr style=\"text-align: right;\">\n",
              "      <th></th>\n",
              "      <th>hotel</th>\n",
              "      <th>is_canceled</th>\n",
              "      <th>lead_time</th>\n",
              "      <th>arrival_date_year</th>\n",
              "      <th>arrival_date_month</th>\n",
              "      <th>arrival_date_week_number</th>\n",
              "      <th>arrival_date_day_of_month</th>\n",
              "      <th>stays_in_weekend_nights</th>\n",
              "      <th>stays_in_week_nights</th>\n",
              "      <th>adults</th>\n",
              "      <th>...</th>\n",
              "      <th>deposit_type</th>\n",
              "      <th>agent</th>\n",
              "      <th>company</th>\n",
              "      <th>days_in_waiting_list</th>\n",
              "      <th>customer_type</th>\n",
              "      <th>adr</th>\n",
              "      <th>required_car_parking_spaces</th>\n",
              "      <th>total_of_special_requests</th>\n",
              "      <th>reservation_status</th>\n",
              "      <th>reservation_status_date</th>\n",
              "    </tr>\n",
              "  </thead>\n",
              "  <tbody>\n",
              "    <tr>\n",
              "      <th>0</th>\n",
              "      <td>Resort Hotel</td>\n",
              "      <td>0</td>\n",
              "      <td>342</td>\n",
              "      <td>2015</td>\n",
              "      <td>July</td>\n",
              "      <td>27</td>\n",
              "      <td>1</td>\n",
              "      <td>0</td>\n",
              "      <td>0</td>\n",
              "      <td>2</td>\n",
              "      <td>...</td>\n",
              "      <td>No Deposit</td>\n",
              "      <td>NaN</td>\n",
              "      <td>NaN</td>\n",
              "      <td>0</td>\n",
              "      <td>Transient</td>\n",
              "      <td>0.0</td>\n",
              "      <td>0</td>\n",
              "      <td>0</td>\n",
              "      <td>Check-Out</td>\n",
              "      <td>2015-07-01</td>\n",
              "    </tr>\n",
              "    <tr>\n",
              "      <th>1</th>\n",
              "      <td>Resort Hotel</td>\n",
              "      <td>0</td>\n",
              "      <td>737</td>\n",
              "      <td>2015</td>\n",
              "      <td>July</td>\n",
              "      <td>27</td>\n",
              "      <td>1</td>\n",
              "      <td>0</td>\n",
              "      <td>0</td>\n",
              "      <td>2</td>\n",
              "      <td>...</td>\n",
              "      <td>No Deposit</td>\n",
              "      <td>NaN</td>\n",
              "      <td>NaN</td>\n",
              "      <td>0</td>\n",
              "      <td>Transient</td>\n",
              "      <td>0.0</td>\n",
              "      <td>0</td>\n",
              "      <td>0</td>\n",
              "      <td>Check-Out</td>\n",
              "      <td>2015-07-01</td>\n",
              "    </tr>\n",
              "    <tr>\n",
              "      <th>2</th>\n",
              "      <td>Resort Hotel</td>\n",
              "      <td>0</td>\n",
              "      <td>7</td>\n",
              "      <td>2015</td>\n",
              "      <td>July</td>\n",
              "      <td>27</td>\n",
              "      <td>1</td>\n",
              "      <td>0</td>\n",
              "      <td>1</td>\n",
              "      <td>1</td>\n",
              "      <td>...</td>\n",
              "      <td>No Deposit</td>\n",
              "      <td>NaN</td>\n",
              "      <td>NaN</td>\n",
              "      <td>0</td>\n",
              "      <td>Transient</td>\n",
              "      <td>75.0</td>\n",
              "      <td>0</td>\n",
              "      <td>0</td>\n",
              "      <td>Check-Out</td>\n",
              "      <td>2015-07-02</td>\n",
              "    </tr>\n",
              "    <tr>\n",
              "      <th>3</th>\n",
              "      <td>Resort Hotel</td>\n",
              "      <td>0</td>\n",
              "      <td>13</td>\n",
              "      <td>2015</td>\n",
              "      <td>July</td>\n",
              "      <td>27</td>\n",
              "      <td>1</td>\n",
              "      <td>0</td>\n",
              "      <td>1</td>\n",
              "      <td>1</td>\n",
              "      <td>...</td>\n",
              "      <td>No Deposit</td>\n",
              "      <td>304.0</td>\n",
              "      <td>NaN</td>\n",
              "      <td>0</td>\n",
              "      <td>Transient</td>\n",
              "      <td>75.0</td>\n",
              "      <td>0</td>\n",
              "      <td>0</td>\n",
              "      <td>Check-Out</td>\n",
              "      <td>2015-07-02</td>\n",
              "    </tr>\n",
              "    <tr>\n",
              "      <th>4</th>\n",
              "      <td>Resort Hotel</td>\n",
              "      <td>0</td>\n",
              "      <td>14</td>\n",
              "      <td>2015</td>\n",
              "      <td>July</td>\n",
              "      <td>27</td>\n",
              "      <td>1</td>\n",
              "      <td>0</td>\n",
              "      <td>2</td>\n",
              "      <td>2</td>\n",
              "      <td>...</td>\n",
              "      <td>No Deposit</td>\n",
              "      <td>240.0</td>\n",
              "      <td>NaN</td>\n",
              "      <td>0</td>\n",
              "      <td>Transient</td>\n",
              "      <td>98.0</td>\n",
              "      <td>0</td>\n",
              "      <td>1</td>\n",
              "      <td>Check-Out</td>\n",
              "      <td>2015-07-03</td>\n",
              "    </tr>\n",
              "  </tbody>\n",
              "</table>\n",
              "<p>5 rows × 32 columns</p>\n",
              "</div>\n",
              "      <button class=\"colab-df-convert\" onclick=\"convertToInteractive('df-1776b68c-4288-48b7-8970-2aabe15dcf96')\"\n",
              "              title=\"Convert this dataframe to an interactive table.\"\n",
              "              style=\"display:none;\">\n",
              "        \n",
              "  <svg xmlns=\"http://www.w3.org/2000/svg\" height=\"24px\"viewBox=\"0 0 24 24\"\n",
              "       width=\"24px\">\n",
              "    <path d=\"M0 0h24v24H0V0z\" fill=\"none\"/>\n",
              "    <path d=\"M18.56 5.44l.94 2.06.94-2.06 2.06-.94-2.06-.94-.94-2.06-.94 2.06-2.06.94zm-11 1L8.5 8.5l.94-2.06 2.06-.94-2.06-.94L8.5 2.5l-.94 2.06-2.06.94zm10 10l.94 2.06.94-2.06 2.06-.94-2.06-.94-.94-2.06-.94 2.06-2.06.94z\"/><path d=\"M17.41 7.96l-1.37-1.37c-.4-.4-.92-.59-1.43-.59-.52 0-1.04.2-1.43.59L10.3 9.45l-7.72 7.72c-.78.78-.78 2.05 0 2.83L4 21.41c.39.39.9.59 1.41.59.51 0 1.02-.2 1.41-.59l7.78-7.78 2.81-2.81c.8-.78.8-2.07 0-2.86zM5.41 20L4 18.59l7.72-7.72 1.47 1.35L5.41 20z\"/>\n",
              "  </svg>\n",
              "      </button>\n",
              "      \n",
              "  <style>\n",
              "    .colab-df-container {\n",
              "      display:flex;\n",
              "      flex-wrap:wrap;\n",
              "      gap: 12px;\n",
              "    }\n",
              "\n",
              "    .colab-df-convert {\n",
              "      background-color: #E8F0FE;\n",
              "      border: none;\n",
              "      border-radius: 50%;\n",
              "      cursor: pointer;\n",
              "      display: none;\n",
              "      fill: #1967D2;\n",
              "      height: 32px;\n",
              "      padding: 0 0 0 0;\n",
              "      width: 32px;\n",
              "    }\n",
              "\n",
              "    .colab-df-convert:hover {\n",
              "      background-color: #E2EBFA;\n",
              "      box-shadow: 0px 1px 2px rgba(60, 64, 67, 0.3), 0px 1px 3px 1px rgba(60, 64, 67, 0.15);\n",
              "      fill: #174EA6;\n",
              "    }\n",
              "\n",
              "    [theme=dark] .colab-df-convert {\n",
              "      background-color: #3B4455;\n",
              "      fill: #D2E3FC;\n",
              "    }\n",
              "\n",
              "    [theme=dark] .colab-df-convert:hover {\n",
              "      background-color: #434B5C;\n",
              "      box-shadow: 0px 1px 3px 1px rgba(0, 0, 0, 0.15);\n",
              "      filter: drop-shadow(0px 1px 2px rgba(0, 0, 0, 0.3));\n",
              "      fill: #FFFFFF;\n",
              "    }\n",
              "  </style>\n",
              "\n",
              "      <script>\n",
              "        const buttonEl =\n",
              "          document.querySelector('#df-1776b68c-4288-48b7-8970-2aabe15dcf96 button.colab-df-convert');\n",
              "        buttonEl.style.display =\n",
              "          google.colab.kernel.accessAllowed ? 'block' : 'none';\n",
              "\n",
              "        async function convertToInteractive(key) {\n",
              "          const element = document.querySelector('#df-1776b68c-4288-48b7-8970-2aabe15dcf96');\n",
              "          const dataTable =\n",
              "            await google.colab.kernel.invokeFunction('convertToInteractive',\n",
              "                                                     [key], {});\n",
              "          if (!dataTable) return;\n",
              "\n",
              "          const docLinkHtml = 'Like what you see? Visit the ' +\n",
              "            '<a target=\"_blank\" href=https://colab.research.google.com/notebooks/data_table.ipynb>data table notebook</a>'\n",
              "            + ' to learn more about interactive tables.';\n",
              "          element.innerHTML = '';\n",
              "          dataTable['output_type'] = 'display_data';\n",
              "          await google.colab.output.renderOutput(dataTable, element);\n",
              "          const docLink = document.createElement('div');\n",
              "          docLink.innerHTML = docLinkHtml;\n",
              "          element.appendChild(docLink);\n",
              "        }\n",
              "      </script>\n",
              "    </div>\n",
              "  </div>\n",
              "  "
            ]
          },
          "metadata": {},
          "execution_count": 4
        }
      ]
    },
    {
      "cell_type": "markdown",
      "source": [
        "### Dataset Rows & Columns count"
      ],
      "metadata": {
        "id": "7hBIi_osiCS2"
      }
    },
    {
      "cell_type": "code",
      "source": [
        "# Dataset Rows & Columns \n",
        "dataset.shape"
      ],
      "metadata": {
        "id": "Kllu7SJgmLij",
        "colab": {
          "base_uri": "https://localhost:8080/"
        },
        "outputId": "9dcb0072-ac21-46a6-f3e8-398cb05e275d"
      },
      "execution_count": 5,
      "outputs": [
        {
          "output_type": "execute_result",
          "data": {
            "text/plain": [
              "(119390, 32)"
            ]
          },
          "metadata": {},
          "execution_count": 5
        }
      ]
    },
    {
      "cell_type": "markdown",
      "source": [
        "### Dataset Information"
      ],
      "metadata": {
        "id": "JlHwYmJAmNHm"
      }
    },
    {
      "cell_type": "code",
      "source": [
        "# Dataset Info\n",
        "dataset.info()"
      ],
      "metadata": {
        "id": "e9hRXRi6meOf",
        "colab": {
          "base_uri": "https://localhost:8080/"
        },
        "outputId": "06a8fa8e-8f58-4edf-9f6c-bac510295b0e"
      },
      "execution_count": 6,
      "outputs": [
        {
          "output_type": "stream",
          "name": "stdout",
          "text": [
            "<class 'pandas.core.frame.DataFrame'>\n",
            "RangeIndex: 119390 entries, 0 to 119389\n",
            "Data columns (total 32 columns):\n",
            " #   Column                          Non-Null Count   Dtype  \n",
            "---  ------                          --------------   -----  \n",
            " 0   hotel                           119390 non-null  object \n",
            " 1   is_canceled                     119390 non-null  int64  \n",
            " 2   lead_time                       119390 non-null  int64  \n",
            " 3   arrival_date_year               119390 non-null  int64  \n",
            " 4   arrival_date_month              119390 non-null  object \n",
            " 5   arrival_date_week_number        119390 non-null  int64  \n",
            " 6   arrival_date_day_of_month       119390 non-null  int64  \n",
            " 7   stays_in_weekend_nights         119390 non-null  int64  \n",
            " 8   stays_in_week_nights            119390 non-null  int64  \n",
            " 9   adults                          119390 non-null  int64  \n",
            " 10  children                        119386 non-null  float64\n",
            " 11  babies                          119390 non-null  int64  \n",
            " 12  meal                            119390 non-null  object \n",
            " 13  country                         118902 non-null  object \n",
            " 14  market_segment                  119390 non-null  object \n",
            " 15  distribution_channel            119390 non-null  object \n",
            " 16  is_repeated_guest               119390 non-null  int64  \n",
            " 17  previous_cancellations          119390 non-null  int64  \n",
            " 18  previous_bookings_not_canceled  119390 non-null  int64  \n",
            " 19  reserved_room_type              119390 non-null  object \n",
            " 20  assigned_room_type              119390 non-null  object \n",
            " 21  booking_changes                 119390 non-null  int64  \n",
            " 22  deposit_type                    119390 non-null  object \n",
            " 23  agent                           103050 non-null  float64\n",
            " 24  company                         6797 non-null    float64\n",
            " 25  days_in_waiting_list            119390 non-null  int64  \n",
            " 26  customer_type                   119390 non-null  object \n",
            " 27  adr                             119390 non-null  float64\n",
            " 28  required_car_parking_spaces     119390 non-null  int64  \n",
            " 29  total_of_special_requests       119390 non-null  int64  \n",
            " 30  reservation_status              119390 non-null  object \n",
            " 31  reservation_status_date         119390 non-null  object \n",
            "dtypes: float64(4), int64(16), object(12)\n",
            "memory usage: 29.1+ MB\n"
          ]
        }
      ]
    },
    {
      "cell_type": "markdown",
      "source": [
        "#### Duplicate Values"
      ],
      "metadata": {
        "id": "35m5QtbWiB9F"
      }
    },
    {
      "cell_type": "code",
      "source": [
        "# Dataset Duplicate Value Count\n",
        "len(dataset[dataset.duplicated()])"
      ],
      "metadata": {
        "id": "1sLdpKYkmox0",
        "colab": {
          "base_uri": "https://localhost:8080/"
        },
        "outputId": "295a4c5c-e7d5-4bfb-a5a0-3c11301e93df"
      },
      "execution_count": 7,
      "outputs": [
        {
          "output_type": "execute_result",
          "data": {
            "text/plain": [
              "31994"
            ]
          },
          "metadata": {},
          "execution_count": 7
        }
      ]
    },
    {
      "cell_type": "markdown",
      "source": [
        "#### Missing Values/Null Values"
      ],
      "metadata": {
        "id": "PoPl-ycgm1ru"
      }
    },
    {
      "cell_type": "code",
      "source": [
        "# Missing Values/Null Values Count\n",
        "print(dataset.isnull().sum())"
      ],
      "metadata": {
        "id": "GgHWkxvamxVg",
        "colab": {
          "base_uri": "https://localhost:8080/"
        },
        "outputId": "1e01d111-08b8-4aec-8d28-483171fe3ff0"
      },
      "execution_count": 8,
      "outputs": [
        {
          "output_type": "stream",
          "name": "stdout",
          "text": [
            "hotel                                  0\n",
            "is_canceled                            0\n",
            "lead_time                              0\n",
            "arrival_date_year                      0\n",
            "arrival_date_month                     0\n",
            "arrival_date_week_number               0\n",
            "arrival_date_day_of_month              0\n",
            "stays_in_weekend_nights                0\n",
            "stays_in_week_nights                   0\n",
            "adults                                 0\n",
            "children                               4\n",
            "babies                                 0\n",
            "meal                                   0\n",
            "country                              488\n",
            "market_segment                         0\n",
            "distribution_channel                   0\n",
            "is_repeated_guest                      0\n",
            "previous_cancellations                 0\n",
            "previous_bookings_not_canceled         0\n",
            "reserved_room_type                     0\n",
            "assigned_room_type                     0\n",
            "booking_changes                        0\n",
            "deposit_type                           0\n",
            "agent                              16340\n",
            "company                           112593\n",
            "days_in_waiting_list                   0\n",
            "customer_type                          0\n",
            "adr                                    0\n",
            "required_car_parking_spaces            0\n",
            "total_of_special_requests              0\n",
            "reservation_status                     0\n",
            "reservation_status_date                0\n",
            "dtype: int64\n"
          ]
        }
      ]
    },
    {
      "cell_type": "code",
      "source": [
        "# Visualizing the missing values\n",
        "# Checking Null Value by plotting Heatmap\n",
        "sns.heatmap(dataset.isnull(), cbar=False)"
      ],
      "metadata": {
        "id": "3q5wnI3om9sJ"
      },
      "execution_count": null,
      "outputs": []
    },
    {
      "cell_type": "markdown",
      "source": [
        "### What did you know about your dataset?"
      ],
      "metadata": {
        "id": "H0kj-8xxnORC"
      }
    },
    {
      "cell_type": "markdown",
      "source": [
        "This data set contains a single file which compares various booking information between two hotels: a city hotel and a resort hotel.Includes information such as when the booking was made, length of stay, the number of adults, children, and/or babies, and the number of available parking spaces, among other things. The dataset contains a total of 119390 rows and 32 columns.Dataset Contains duplicated items i.e 31944 which is removed later .In this dataset we find data types of every columns i.e (Int, float ,string) and observe that some columns data types is not accurate and remove later .We find unique value of every columns it means what actual values in every columns"
      ],
      "metadata": {
        "id": "kGZg56HCUSTF"
      }
    },
    {
      "cell_type": "markdown",
      "source": [
        "## ***2. Understanding Your Variables***"
      ],
      "metadata": {
        "id": "nA9Y7ga8ng1Z"
      }
    },
    {
      "cell_type": "code",
      "source": [
        "# Dataset Columns\n",
        "dataset.columns"
      ],
      "metadata": {
        "id": "n87BaXA_42-R",
        "colab": {
          "base_uri": "https://localhost:8080/"
        },
        "outputId": "1ff0e68b-105f-422e-e80a-c3dcf84855d0"
      },
      "execution_count": 9,
      "outputs": [
        {
          "output_type": "execute_result",
          "data": {
            "text/plain": [
              "Index(['hotel', 'is_canceled', 'lead_time', 'arrival_date_year',\n",
              "       'arrival_date_month', 'arrival_date_week_number',\n",
              "       'arrival_date_day_of_month', 'stays_in_weekend_nights',\n",
              "       'stays_in_week_nights', 'adults', 'children', 'babies', 'meal',\n",
              "       'country', 'market_segment', 'distribution_channel',\n",
              "       'is_repeated_guest', 'previous_cancellations',\n",
              "       'previous_bookings_not_canceled', 'reserved_room_type',\n",
              "       'assigned_room_type', 'booking_changes', 'deposit_type', 'agent',\n",
              "       'company', 'days_in_waiting_list', 'customer_type', 'adr',\n",
              "       'required_car_parking_spaces', 'total_of_special_requests',\n",
              "       'reservation_status', 'reservation_status_date'],\n",
              "      dtype='object')"
            ]
          },
          "metadata": {},
          "execution_count": 9
        }
      ]
    },
    {
      "cell_type": "code",
      "source": [
        "# Dataset Describe\n",
        "dataset.describe(include='all')"
      ],
      "metadata": {
        "id": "DnOaZdaE5Q5t",
        "colab": {
          "base_uri": "https://localhost:8080/",
          "height": 505
        },
        "outputId": "eae14ab7-987a-458a-f63f-6e138aa1d066"
      },
      "execution_count": 10,
      "outputs": [
        {
          "output_type": "execute_result",
          "data": {
            "text/plain": [
              "             hotel    is_canceled      lead_time  arrival_date_year  \\\n",
              "count       119390  119390.000000  119390.000000      119390.000000   \n",
              "unique           2            NaN            NaN                NaN   \n",
              "top     City Hotel            NaN            NaN                NaN   \n",
              "freq         79330            NaN            NaN                NaN   \n",
              "mean           NaN       0.370416     104.011416        2016.156554   \n",
              "std            NaN       0.482918     106.863097           0.707476   \n",
              "min            NaN       0.000000       0.000000        2015.000000   \n",
              "25%            NaN       0.000000      18.000000        2016.000000   \n",
              "50%            NaN       0.000000      69.000000        2016.000000   \n",
              "75%            NaN       1.000000     160.000000        2017.000000   \n",
              "max            NaN       1.000000     737.000000        2017.000000   \n",
              "\n",
              "       arrival_date_month  arrival_date_week_number  \\\n",
              "count              119390             119390.000000   \n",
              "unique                 12                       NaN   \n",
              "top                August                       NaN   \n",
              "freq                13877                       NaN   \n",
              "mean                  NaN                 27.165173   \n",
              "std                   NaN                 13.605138   \n",
              "min                   NaN                  1.000000   \n",
              "25%                   NaN                 16.000000   \n",
              "50%                   NaN                 28.000000   \n",
              "75%                   NaN                 38.000000   \n",
              "max                   NaN                 53.000000   \n",
              "\n",
              "        arrival_date_day_of_month  stays_in_weekend_nights  \\\n",
              "count               119390.000000            119390.000000   \n",
              "unique                        NaN                      NaN   \n",
              "top                           NaN                      NaN   \n",
              "freq                          NaN                      NaN   \n",
              "mean                    15.798241                 0.927599   \n",
              "std                      8.780829                 0.998613   \n",
              "min                      1.000000                 0.000000   \n",
              "25%                      8.000000                 0.000000   \n",
              "50%                     16.000000                 1.000000   \n",
              "75%                     23.000000                 2.000000   \n",
              "max                     31.000000                19.000000   \n",
              "\n",
              "        stays_in_week_nights         adults  ...  deposit_type          agent  \\\n",
              "count          119390.000000  119390.000000  ...        119390  103050.000000   \n",
              "unique                   NaN            NaN  ...             3            NaN   \n",
              "top                      NaN            NaN  ...    No Deposit            NaN   \n",
              "freq                     NaN            NaN  ...        104641            NaN   \n",
              "mean                2.500302       1.856403  ...           NaN      86.693382   \n",
              "std                 1.908286       0.579261  ...           NaN     110.774548   \n",
              "min                 0.000000       0.000000  ...           NaN       1.000000   \n",
              "25%                 1.000000       2.000000  ...           NaN       9.000000   \n",
              "50%                 2.000000       2.000000  ...           NaN      14.000000   \n",
              "75%                 3.000000       2.000000  ...           NaN     229.000000   \n",
              "max                50.000000      55.000000  ...           NaN     535.000000   \n",
              "\n",
              "            company days_in_waiting_list customer_type            adr  \\\n",
              "count   6797.000000        119390.000000        119390  119390.000000   \n",
              "unique          NaN                  NaN             4            NaN   \n",
              "top             NaN                  NaN     Transient            NaN   \n",
              "freq            NaN                  NaN         89613            NaN   \n",
              "mean     189.266735             2.321149           NaN     101.831122   \n",
              "std      131.655015            17.594721           NaN      50.535790   \n",
              "min        6.000000             0.000000           NaN      -6.380000   \n",
              "25%       62.000000             0.000000           NaN      69.290000   \n",
              "50%      179.000000             0.000000           NaN      94.575000   \n",
              "75%      270.000000             0.000000           NaN     126.000000   \n",
              "max      543.000000           391.000000           NaN    5400.000000   \n",
              "\n",
              "        required_car_parking_spaces  total_of_special_requests  \\\n",
              "count                 119390.000000              119390.000000   \n",
              "unique                          NaN                        NaN   \n",
              "top                             NaN                        NaN   \n",
              "freq                            NaN                        NaN   \n",
              "mean                       0.062518                   0.571363   \n",
              "std                        0.245291                   0.792798   \n",
              "min                        0.000000                   0.000000   \n",
              "25%                        0.000000                   0.000000   \n",
              "50%                        0.000000                   0.000000   \n",
              "75%                        0.000000                   1.000000   \n",
              "max                        8.000000                   5.000000   \n",
              "\n",
              "        reservation_status reservation_status_date  \n",
              "count               119390                  119390  \n",
              "unique                   3                     926  \n",
              "top              Check-Out              2015-10-21  \n",
              "freq                 75166                    1461  \n",
              "mean                   NaN                     NaN  \n",
              "std                    NaN                     NaN  \n",
              "min                    NaN                     NaN  \n",
              "25%                    NaN                     NaN  \n",
              "50%                    NaN                     NaN  \n",
              "75%                    NaN                     NaN  \n",
              "max                    NaN                     NaN  \n",
              "\n",
              "[11 rows x 32 columns]"
            ],
            "text/html": [
              "\n",
              "  <div id=\"df-d7e07ec9-547b-46fc-bf16-0097f43e1e5f\">\n",
              "    <div class=\"colab-df-container\">\n",
              "      <div>\n",
              "<style scoped>\n",
              "    .dataframe tbody tr th:only-of-type {\n",
              "        vertical-align: middle;\n",
              "    }\n",
              "\n",
              "    .dataframe tbody tr th {\n",
              "        vertical-align: top;\n",
              "    }\n",
              "\n",
              "    .dataframe thead th {\n",
              "        text-align: right;\n",
              "    }\n",
              "</style>\n",
              "<table border=\"1\" class=\"dataframe\">\n",
              "  <thead>\n",
              "    <tr style=\"text-align: right;\">\n",
              "      <th></th>\n",
              "      <th>hotel</th>\n",
              "      <th>is_canceled</th>\n",
              "      <th>lead_time</th>\n",
              "      <th>arrival_date_year</th>\n",
              "      <th>arrival_date_month</th>\n",
              "      <th>arrival_date_week_number</th>\n",
              "      <th>arrival_date_day_of_month</th>\n",
              "      <th>stays_in_weekend_nights</th>\n",
              "      <th>stays_in_week_nights</th>\n",
              "      <th>adults</th>\n",
              "      <th>...</th>\n",
              "      <th>deposit_type</th>\n",
              "      <th>agent</th>\n",
              "      <th>company</th>\n",
              "      <th>days_in_waiting_list</th>\n",
              "      <th>customer_type</th>\n",
              "      <th>adr</th>\n",
              "      <th>required_car_parking_spaces</th>\n",
              "      <th>total_of_special_requests</th>\n",
              "      <th>reservation_status</th>\n",
              "      <th>reservation_status_date</th>\n",
              "    </tr>\n",
              "  </thead>\n",
              "  <tbody>\n",
              "    <tr>\n",
              "      <th>count</th>\n",
              "      <td>119390</td>\n",
              "      <td>119390.000000</td>\n",
              "      <td>119390.000000</td>\n",
              "      <td>119390.000000</td>\n",
              "      <td>119390</td>\n",
              "      <td>119390.000000</td>\n",
              "      <td>119390.000000</td>\n",
              "      <td>119390.000000</td>\n",
              "      <td>119390.000000</td>\n",
              "      <td>119390.000000</td>\n",
              "      <td>...</td>\n",
              "      <td>119390</td>\n",
              "      <td>103050.000000</td>\n",
              "      <td>6797.000000</td>\n",
              "      <td>119390.000000</td>\n",
              "      <td>119390</td>\n",
              "      <td>119390.000000</td>\n",
              "      <td>119390.000000</td>\n",
              "      <td>119390.000000</td>\n",
              "      <td>119390</td>\n",
              "      <td>119390</td>\n",
              "    </tr>\n",
              "    <tr>\n",
              "      <th>unique</th>\n",
              "      <td>2</td>\n",
              "      <td>NaN</td>\n",
              "      <td>NaN</td>\n",
              "      <td>NaN</td>\n",
              "      <td>12</td>\n",
              "      <td>NaN</td>\n",
              "      <td>NaN</td>\n",
              "      <td>NaN</td>\n",
              "      <td>NaN</td>\n",
              "      <td>NaN</td>\n",
              "      <td>...</td>\n",
              "      <td>3</td>\n",
              "      <td>NaN</td>\n",
              "      <td>NaN</td>\n",
              "      <td>NaN</td>\n",
              "      <td>4</td>\n",
              "      <td>NaN</td>\n",
              "      <td>NaN</td>\n",
              "      <td>NaN</td>\n",
              "      <td>3</td>\n",
              "      <td>926</td>\n",
              "    </tr>\n",
              "    <tr>\n",
              "      <th>top</th>\n",
              "      <td>City Hotel</td>\n",
              "      <td>NaN</td>\n",
              "      <td>NaN</td>\n",
              "      <td>NaN</td>\n",
              "      <td>August</td>\n",
              "      <td>NaN</td>\n",
              "      <td>NaN</td>\n",
              "      <td>NaN</td>\n",
              "      <td>NaN</td>\n",
              "      <td>NaN</td>\n",
              "      <td>...</td>\n",
              "      <td>No Deposit</td>\n",
              "      <td>NaN</td>\n",
              "      <td>NaN</td>\n",
              "      <td>NaN</td>\n",
              "      <td>Transient</td>\n",
              "      <td>NaN</td>\n",
              "      <td>NaN</td>\n",
              "      <td>NaN</td>\n",
              "      <td>Check-Out</td>\n",
              "      <td>2015-10-21</td>\n",
              "    </tr>\n",
              "    <tr>\n",
              "      <th>freq</th>\n",
              "      <td>79330</td>\n",
              "      <td>NaN</td>\n",
              "      <td>NaN</td>\n",
              "      <td>NaN</td>\n",
              "      <td>13877</td>\n",
              "      <td>NaN</td>\n",
              "      <td>NaN</td>\n",
              "      <td>NaN</td>\n",
              "      <td>NaN</td>\n",
              "      <td>NaN</td>\n",
              "      <td>...</td>\n",
              "      <td>104641</td>\n",
              "      <td>NaN</td>\n",
              "      <td>NaN</td>\n",
              "      <td>NaN</td>\n",
              "      <td>89613</td>\n",
              "      <td>NaN</td>\n",
              "      <td>NaN</td>\n",
              "      <td>NaN</td>\n",
              "      <td>75166</td>\n",
              "      <td>1461</td>\n",
              "    </tr>\n",
              "    <tr>\n",
              "      <th>mean</th>\n",
              "      <td>NaN</td>\n",
              "      <td>0.370416</td>\n",
              "      <td>104.011416</td>\n",
              "      <td>2016.156554</td>\n",
              "      <td>NaN</td>\n",
              "      <td>27.165173</td>\n",
              "      <td>15.798241</td>\n",
              "      <td>0.927599</td>\n",
              "      <td>2.500302</td>\n",
              "      <td>1.856403</td>\n",
              "      <td>...</td>\n",
              "      <td>NaN</td>\n",
              "      <td>86.693382</td>\n",
              "      <td>189.266735</td>\n",
              "      <td>2.321149</td>\n",
              "      <td>NaN</td>\n",
              "      <td>101.831122</td>\n",
              "      <td>0.062518</td>\n",
              "      <td>0.571363</td>\n",
              "      <td>NaN</td>\n",
              "      <td>NaN</td>\n",
              "    </tr>\n",
              "    <tr>\n",
              "      <th>std</th>\n",
              "      <td>NaN</td>\n",
              "      <td>0.482918</td>\n",
              "      <td>106.863097</td>\n",
              "      <td>0.707476</td>\n",
              "      <td>NaN</td>\n",
              "      <td>13.605138</td>\n",
              "      <td>8.780829</td>\n",
              "      <td>0.998613</td>\n",
              "      <td>1.908286</td>\n",
              "      <td>0.579261</td>\n",
              "      <td>...</td>\n",
              "      <td>NaN</td>\n",
              "      <td>110.774548</td>\n",
              "      <td>131.655015</td>\n",
              "      <td>17.594721</td>\n",
              "      <td>NaN</td>\n",
              "      <td>50.535790</td>\n",
              "      <td>0.245291</td>\n",
              "      <td>0.792798</td>\n",
              "      <td>NaN</td>\n",
              "      <td>NaN</td>\n",
              "    </tr>\n",
              "    <tr>\n",
              "      <th>min</th>\n",
              "      <td>NaN</td>\n",
              "      <td>0.000000</td>\n",
              "      <td>0.000000</td>\n",
              "      <td>2015.000000</td>\n",
              "      <td>NaN</td>\n",
              "      <td>1.000000</td>\n",
              "      <td>1.000000</td>\n",
              "      <td>0.000000</td>\n",
              "      <td>0.000000</td>\n",
              "      <td>0.000000</td>\n",
              "      <td>...</td>\n",
              "      <td>NaN</td>\n",
              "      <td>1.000000</td>\n",
              "      <td>6.000000</td>\n",
              "      <td>0.000000</td>\n",
              "      <td>NaN</td>\n",
              "      <td>-6.380000</td>\n",
              "      <td>0.000000</td>\n",
              "      <td>0.000000</td>\n",
              "      <td>NaN</td>\n",
              "      <td>NaN</td>\n",
              "    </tr>\n",
              "    <tr>\n",
              "      <th>25%</th>\n",
              "      <td>NaN</td>\n",
              "      <td>0.000000</td>\n",
              "      <td>18.000000</td>\n",
              "      <td>2016.000000</td>\n",
              "      <td>NaN</td>\n",
              "      <td>16.000000</td>\n",
              "      <td>8.000000</td>\n",
              "      <td>0.000000</td>\n",
              "      <td>1.000000</td>\n",
              "      <td>2.000000</td>\n",
              "      <td>...</td>\n",
              "      <td>NaN</td>\n",
              "      <td>9.000000</td>\n",
              "      <td>62.000000</td>\n",
              "      <td>0.000000</td>\n",
              "      <td>NaN</td>\n",
              "      <td>69.290000</td>\n",
              "      <td>0.000000</td>\n",
              "      <td>0.000000</td>\n",
              "      <td>NaN</td>\n",
              "      <td>NaN</td>\n",
              "    </tr>\n",
              "    <tr>\n",
              "      <th>50%</th>\n",
              "      <td>NaN</td>\n",
              "      <td>0.000000</td>\n",
              "      <td>69.000000</td>\n",
              "      <td>2016.000000</td>\n",
              "      <td>NaN</td>\n",
              "      <td>28.000000</td>\n",
              "      <td>16.000000</td>\n",
              "      <td>1.000000</td>\n",
              "      <td>2.000000</td>\n",
              "      <td>2.000000</td>\n",
              "      <td>...</td>\n",
              "      <td>NaN</td>\n",
              "      <td>14.000000</td>\n",
              "      <td>179.000000</td>\n",
              "      <td>0.000000</td>\n",
              "      <td>NaN</td>\n",
              "      <td>94.575000</td>\n",
              "      <td>0.000000</td>\n",
              "      <td>0.000000</td>\n",
              "      <td>NaN</td>\n",
              "      <td>NaN</td>\n",
              "    </tr>\n",
              "    <tr>\n",
              "      <th>75%</th>\n",
              "      <td>NaN</td>\n",
              "      <td>1.000000</td>\n",
              "      <td>160.000000</td>\n",
              "      <td>2017.000000</td>\n",
              "      <td>NaN</td>\n",
              "      <td>38.000000</td>\n",
              "      <td>23.000000</td>\n",
              "      <td>2.000000</td>\n",
              "      <td>3.000000</td>\n",
              "      <td>2.000000</td>\n",
              "      <td>...</td>\n",
              "      <td>NaN</td>\n",
              "      <td>229.000000</td>\n",
              "      <td>270.000000</td>\n",
              "      <td>0.000000</td>\n",
              "      <td>NaN</td>\n",
              "      <td>126.000000</td>\n",
              "      <td>0.000000</td>\n",
              "      <td>1.000000</td>\n",
              "      <td>NaN</td>\n",
              "      <td>NaN</td>\n",
              "    </tr>\n",
              "    <tr>\n",
              "      <th>max</th>\n",
              "      <td>NaN</td>\n",
              "      <td>1.000000</td>\n",
              "      <td>737.000000</td>\n",
              "      <td>2017.000000</td>\n",
              "      <td>NaN</td>\n",
              "      <td>53.000000</td>\n",
              "      <td>31.000000</td>\n",
              "      <td>19.000000</td>\n",
              "      <td>50.000000</td>\n",
              "      <td>55.000000</td>\n",
              "      <td>...</td>\n",
              "      <td>NaN</td>\n",
              "      <td>535.000000</td>\n",
              "      <td>543.000000</td>\n",
              "      <td>391.000000</td>\n",
              "      <td>NaN</td>\n",
              "      <td>5400.000000</td>\n",
              "      <td>8.000000</td>\n",
              "      <td>5.000000</td>\n",
              "      <td>NaN</td>\n",
              "      <td>NaN</td>\n",
              "    </tr>\n",
              "  </tbody>\n",
              "</table>\n",
              "<p>11 rows × 32 columns</p>\n",
              "</div>\n",
              "      <button class=\"colab-df-convert\" onclick=\"convertToInteractive('df-d7e07ec9-547b-46fc-bf16-0097f43e1e5f')\"\n",
              "              title=\"Convert this dataframe to an interactive table.\"\n",
              "              style=\"display:none;\">\n",
              "        \n",
              "  <svg xmlns=\"http://www.w3.org/2000/svg\" height=\"24px\"viewBox=\"0 0 24 24\"\n",
              "       width=\"24px\">\n",
              "    <path d=\"M0 0h24v24H0V0z\" fill=\"none\"/>\n",
              "    <path d=\"M18.56 5.44l.94 2.06.94-2.06 2.06-.94-2.06-.94-.94-2.06-.94 2.06-2.06.94zm-11 1L8.5 8.5l.94-2.06 2.06-.94-2.06-.94L8.5 2.5l-.94 2.06-2.06.94zm10 10l.94 2.06.94-2.06 2.06-.94-2.06-.94-.94-2.06-.94 2.06-2.06.94z\"/><path d=\"M17.41 7.96l-1.37-1.37c-.4-.4-.92-.59-1.43-.59-.52 0-1.04.2-1.43.59L10.3 9.45l-7.72 7.72c-.78.78-.78 2.05 0 2.83L4 21.41c.39.39.9.59 1.41.59.51 0 1.02-.2 1.41-.59l7.78-7.78 2.81-2.81c.8-.78.8-2.07 0-2.86zM5.41 20L4 18.59l7.72-7.72 1.47 1.35L5.41 20z\"/>\n",
              "  </svg>\n",
              "      </button>\n",
              "      \n",
              "  <style>\n",
              "    .colab-df-container {\n",
              "      display:flex;\n",
              "      flex-wrap:wrap;\n",
              "      gap: 12px;\n",
              "    }\n",
              "\n",
              "    .colab-df-convert {\n",
              "      background-color: #E8F0FE;\n",
              "      border: none;\n",
              "      border-radius: 50%;\n",
              "      cursor: pointer;\n",
              "      display: none;\n",
              "      fill: #1967D2;\n",
              "      height: 32px;\n",
              "      padding: 0 0 0 0;\n",
              "      width: 32px;\n",
              "    }\n",
              "\n",
              "    .colab-df-convert:hover {\n",
              "      background-color: #E2EBFA;\n",
              "      box-shadow: 0px 1px 2px rgba(60, 64, 67, 0.3), 0px 1px 3px 1px rgba(60, 64, 67, 0.15);\n",
              "      fill: #174EA6;\n",
              "    }\n",
              "\n",
              "    [theme=dark] .colab-df-convert {\n",
              "      background-color: #3B4455;\n",
              "      fill: #D2E3FC;\n",
              "    }\n",
              "\n",
              "    [theme=dark] .colab-df-convert:hover {\n",
              "      background-color: #434B5C;\n",
              "      box-shadow: 0px 1px 3px 1px rgba(0, 0, 0, 0.15);\n",
              "      filter: drop-shadow(0px 1px 2px rgba(0, 0, 0, 0.3));\n",
              "      fill: #FFFFFF;\n",
              "    }\n",
              "  </style>\n",
              "\n",
              "      <script>\n",
              "        const buttonEl =\n",
              "          document.querySelector('#df-d7e07ec9-547b-46fc-bf16-0097f43e1e5f button.colab-df-convert');\n",
              "        buttonEl.style.display =\n",
              "          google.colab.kernel.accessAllowed ? 'block' : 'none';\n",
              "\n",
              "        async function convertToInteractive(key) {\n",
              "          const element = document.querySelector('#df-d7e07ec9-547b-46fc-bf16-0097f43e1e5f');\n",
              "          const dataTable =\n",
              "            await google.colab.kernel.invokeFunction('convertToInteractive',\n",
              "                                                     [key], {});\n",
              "          if (!dataTable) return;\n",
              "\n",
              "          const docLinkHtml = 'Like what you see? Visit the ' +\n",
              "            '<a target=\"_blank\" href=https://colab.research.google.com/notebooks/data_table.ipynb>data table notebook</a>'\n",
              "            + ' to learn more about interactive tables.';\n",
              "          element.innerHTML = '';\n",
              "          dataTable['output_type'] = 'display_data';\n",
              "          await google.colab.output.renderOutput(dataTable, element);\n",
              "          const docLink = document.createElement('div');\n",
              "          docLink.innerHTML = docLinkHtml;\n",
              "          element.appendChild(docLink);\n",
              "        }\n",
              "      </script>\n",
              "    </div>\n",
              "  </div>\n",
              "  "
            ]
          },
          "metadata": {},
          "execution_count": 10
        }
      ]
    },
    {
      "cell_type": "markdown",
      "source": [
        "### Variables Description "
      ],
      "metadata": {
        "id": "PBTbrJXOngz2"
      }
    },
    {
      "cell_type": "markdown",
      "source": [
        "### Check Unique Values for each variable."
      ],
      "metadata": {
        "id": "u3PMJOP6ngxN"
      }
    },
    {
      "cell_type": "code",
      "source": [
        "# Check Unique Values for each variable.\n",
        "for i in dataset.columns.tolist():\n",
        "  print(\"No. of unique values in \",i,\"is\",dataset[i].nunique(),\".\")"
      ],
      "metadata": {
        "id": "zms12Yq5n-jE",
        "colab": {
          "base_uri": "https://localhost:8080/"
        },
        "outputId": "1ba83f82-29bb-4977-828a-41e439130265"
      },
      "execution_count": 11,
      "outputs": [
        {
          "output_type": "stream",
          "name": "stdout",
          "text": [
            "No. of unique values in  hotel is 2 .\n",
            "No. of unique values in  is_canceled is 2 .\n",
            "No. of unique values in  lead_time is 479 .\n",
            "No. of unique values in  arrival_date_year is 3 .\n",
            "No. of unique values in  arrival_date_month is 12 .\n",
            "No. of unique values in  arrival_date_week_number is 53 .\n",
            "No. of unique values in  arrival_date_day_of_month is 31 .\n",
            "No. of unique values in  stays_in_weekend_nights is 17 .\n",
            "No. of unique values in  stays_in_week_nights is 35 .\n",
            "No. of unique values in  adults is 14 .\n",
            "No. of unique values in  children is 5 .\n",
            "No. of unique values in  babies is 5 .\n",
            "No. of unique values in  meal is 5 .\n",
            "No. of unique values in  country is 177 .\n",
            "No. of unique values in  market_segment is 8 .\n",
            "No. of unique values in  distribution_channel is 5 .\n",
            "No. of unique values in  is_repeated_guest is 2 .\n",
            "No. of unique values in  previous_cancellations is 15 .\n",
            "No. of unique values in  previous_bookings_not_canceled is 73 .\n",
            "No. of unique values in  reserved_room_type is 10 .\n",
            "No. of unique values in  assigned_room_type is 12 .\n",
            "No. of unique values in  booking_changes is 21 .\n",
            "No. of unique values in  deposit_type is 3 .\n",
            "No. of unique values in  agent is 333 .\n",
            "No. of unique values in  company is 352 .\n",
            "No. of unique values in  days_in_waiting_list is 128 .\n",
            "No. of unique values in  customer_type is 4 .\n",
            "No. of unique values in  adr is 8879 .\n",
            "No. of unique values in  required_car_parking_spaces is 5 .\n",
            "No. of unique values in  total_of_special_requests is 6 .\n",
            "No. of unique values in  reservation_status is 3 .\n",
            "No. of unique values in  reservation_status_date is 926 .\n"
          ]
        }
      ]
    },
    {
      "cell_type": "markdown",
      "source": [
        "***Description of individual Variable***\n",
        "\n",
        "The columns and the data it represents are listed below:\n",
        "\n",
        "1.hotel : Name of the hotel (Resort Hotel or City Hotel)\n",
        "\n",
        "2.is_canceled : If the booking was canceled (1) or not (0)\n",
        "\n",
        "3.lead_time: Number of days before the actual arrival of the guests\n",
        "\n",
        "4.arrival_date_year : Year of arrival date\n",
        "\n",
        "5.arrival_date_month : Month of month arrival date\n",
        "\n",
        "6.arrival_date_week_number : Week number of year for arrival date\n",
        "\n",
        "7.arrival_date_day_of_month : Day of arrival date\n",
        "8.stays_in_weekend_nights : Number of weekend nights (Saturday or Sunday) spent at the hotel by the guests.\n",
        "\n",
        "9.stays_in_week_nights : Number of weeknights (Monday to Friday) spent at the hotel by the guests.\n",
        "\n",
        "10.adults : Number of adults among guests\n",
        "\n",
        "11.children : Number of children among guests\n",
        "\n",
        "12.babies : Number of babies among guests\n",
        "\n",
        "13.meal : Type of meal booked\n",
        "\n",
        "14.country : Country of guests\n",
        "\n",
        "15.market_segment : Designation of market segment\n",
        "\n",
        "16.distribution_channel : Name of booking distribution channel\n",
        "\n",
        "17.is_repeated_guest : If the booking was from a repeated guest (1) or not (0)\n",
        "\n",
        "18.previous_cancellations : Number of previous bookings that were cancelled by the customer prior to the current booking\n",
        "\n",
        "19.previous_bookings_not_canceled : Number of previous bookings not cancelled by the customer prior to the current booking\n",
        "\n",
        "20.reserved_room_type : Code of room type reserved\n",
        "\n",
        "21.assigned_room_type : Code of room type assigned\n",
        "\n",
        "22.booking_changes : Number of changes/amendments made to the booking\n",
        "\n",
        "23.deposit_type : Type of the deposit made by the guest\n",
        "\n",
        "24.gent : ID of travel agent who made the booking\n",
        "\n",
        "25.company : ID of the company that made the booking\n",
        "\n",
        "26.days_in_waiting_list : Number of days the booking was in the waiting list\n",
        "\n",
        "27.customer_type : Type of customer, assuming one of four categories\n",
        "\n",
        "28.adr : Average Daily Rate, as defined by dividing the sum of all lodging transactions by the total number of staying nights\n",
        "\n",
        "29.required_car_parking_spaces : Number of car parking spaces required by the customer\n",
        "\n",
        "30.total_of_special_requests : Number of special requests made by the customer\n",
        "\n",
        "31.reservation_status : Reservation status (Canceled, Check-Out or No-Show)\n",
        "\n",
        "32.reservation_status_date : Date at which the last reservation status was updated"
      ],
      "metadata": {
        "id": "SyE-YkF0ZkNe"
      }
    },
    {
      "cell_type": "markdown",
      "source": [
        "## 3. ***Data Wrangling***"
      ],
      "metadata": {
        "id": "dauF4eBmngu3"
      }
    },
    {
      "cell_type": "markdown",
      "source": [
        "### Data Cleaning "
      ],
      "metadata": {
        "id": "bKJF3rekwFvQ"
      }
    },
    {
      "cell_type": "code",
      "source": [
        "# Load the data\n",
        "df = pd.read_csv('/content/drive/MyDrive/project/Hotel Bookings.csv')\n",
        "\n",
        "# Check for missing values\n",
        "miss_values = df.isnull().sum()\n",
        "\n",
        "# View the columns with missing values\n",
        "print(miss_values[miss_values > 0])\n"
      ],
      "metadata": {
        "colab": {
          "base_uri": "https://localhost:8080/"
        },
        "id": "bt9YBBjk8IW2",
        "outputId": "008f2275-42b3-46e7-fd02-8cb2cc10d530"
      },
      "execution_count": 22,
      "outputs": [
        {
          "output_type": "stream",
          "name": "stdout",
          "text": [
            "children         4\n",
            "country        488\n",
            "agent        16340\n",
            "company     112593\n",
            "dtype: int64\n"
          ]
        }
      ]
    },
    {
      "cell_type": "code",
      "source": [
        "#lets check, what is the percentage of null value in each column, starting from company\n",
        "# Load the data\n",
        "df = pd.read_csv('/content/drive/MyDrive/project/Hotel Bookings.csv')\n",
        "\n",
        "# Count the number of rows\n",
        "uni_num_of_rows = len(df.index.unique())\n",
        "\n",
        "# Check for missing values\n",
        "miss_values = df.isnull().sum()\n",
        "\n",
        "# Calculate the percentage of missing values for the 'company' column\n",
        "percentage_company_null = miss_values[0] / uni_num_of_rows * 100\n",
        "print(percentage_company_null)\n"
      ],
      "metadata": {
        "colab": {
          "base_uri": "https://localhost:8080/"
        },
        "id": "19tMRJ8P9Ctv",
        "outputId": "30af86b5-f564-4739-f832-d633e242d2a4"
      },
      "execution_count": 24,
      "outputs": [
        {
          "output_type": "stream",
          "name": "stdout",
          "text": [
            "0.0\n"
          ]
        }
      ]
    },
    {
      "cell_type": "code",
      "source": [
        "# Read in the data from a CSV file\n",
        "hotel_booking_df = pd.read_csv('/content/drive/MyDrive/project/Hotel Bookings.csv')\n",
        "# Drop the 'company' column\n",
        "hotel_booking_df.drop(['company'], axis=1, inplace=True)\n",
        "\n"
      ],
      "metadata": {
        "id": "KW_F602U93sm"
      },
      "execution_count": 28,
      "outputs": []
    },
    {
      "cell_type": "code",
      "source": [
        "# now let's check for agent\n",
        "\n",
        "percentage_agent_null = miss_values[1] / uni_num_of_rows*100\n",
        "percentage_agent_null\n",
        "     "
      ],
      "metadata": {
        "colab": {
          "base_uri": "https://localhost:8080/"
        },
        "id": "fZbxmadw-9LS",
        "outputId": "08cdfdc7-8ae3-46ee-a14a-6898f1904258"
      },
      "execution_count": 29,
      "outputs": [
        {
          "output_type": "execute_result",
          "data": {
            "text/plain": [
              "0.0"
            ]
          },
          "metadata": {},
          "execution_count": 29
        }
      ]
    },
    {
      "cell_type": "code",
      "source": [
        "\n",
        "# As we have seen, there is minimul null values in agent, Lets fill these value by taking mode of the all values\n",
        "\n",
        "hotel_booking_df['agent'].fillna(value = 0, inplace = True)\n",
        "hotel_booking_df['agent'].isnull().sum() # we re-check that column has no null value"
      ],
      "metadata": {
        "colab": {
          "base_uri": "https://localhost:8080/"
        },
        "id": "IPA-cw8w_GlD",
        "outputId": "ad712484-caea-4819-a1b3-8acf8368af8d"
      },
      "execution_count": 30,
      "outputs": [
        {
          "output_type": "execute_result",
          "data": {
            "text/plain": [
              "0"
            ]
          },
          "metadata": {},
          "execution_count": 30
        }
      ]
    },
    {
      "cell_type": "code",
      "source": [
        "#Check the percentage null value in country col\n",
        "\n",
        "percentage_country_null = miss_values[2] / uni_num_of_rows*100\n",
        "percentage_country_null"
      ],
      "metadata": {
        "colab": {
          "base_uri": "https://localhost:8080/"
        },
        "id": "fgWtT56J_MZs",
        "outputId": "83d4519a-8f4d-4f68-b208-472be408a046"
      },
      "execution_count": 31,
      "outputs": [
        {
          "output_type": "execute_result",
          "data": {
            "text/plain": [
              "0.0"
            ]
          },
          "metadata": {},
          "execution_count": 31
        }
      ]
    },
    {
      "cell_type": "code",
      "source": [
        "# We have less null vlues in country col, so we will replace null from 'other' as country name.\n",
        "\n",
        "hotel_booking_df['country'].fillna(value = 'others', inplace = True)\n",
        "hotel_booking_df['country'].isnull().sum() # we re-check that column has no null value"
      ],
      "metadata": {
        "colab": {
          "base_uri": "https://localhost:8080/"
        },
        "id": "BaIARhR9_PXW",
        "outputId": "b5a7a557-8f9c-410f-fa0e-cb0e9f1501b1"
      },
      "execution_count": 32,
      "outputs": [
        {
          "output_type": "execute_result",
          "data": {
            "text/plain": [
              "0"
            ]
          },
          "metadata": {},
          "execution_count": 32
        }
      ]
    },
    {
      "cell_type": "code",
      "source": [
        "#Check the percentage null value in children col\n",
        "\n",
        "percentage_children_null = miss_values[3] / uni_num_of_rows*100\n",
        "percentage_children_null\n",
        "     \n",
        "\n"
      ],
      "metadata": {
        "colab": {
          "base_uri": "https://localhost:8080/"
        },
        "id": "ES9Uy1xA_PjR",
        "outputId": "1ed68033-e066-4d86-db7e-28d1028a7364"
      },
      "execution_count": 33,
      "outputs": [
        {
          "output_type": "execute_result",
          "data": {
            "text/plain": [
              "0.0"
            ]
          },
          "metadata": {},
          "execution_count": 33
        }
      ]
    },
    {
      "cell_type": "code",
      "source": [
        "\n",
        "# We have less null vlues in country col, so we will replace null from 0 as country name.\n",
        "\n",
        "hotel_booking_df['children'].fillna(value = 0, inplace = True)\n",
        "hotel_booking_df['children'].isnull().sum() # we re-check that column has no null value"
      ],
      "metadata": {
        "colab": {
          "base_uri": "https://localhost:8080/"
        },
        "id": "FQ6tBgD9_PxQ",
        "outputId": "4db6cbf4-7d7e-4796-8d42-b5e6aa6b7652"
      },
      "execution_count": 34,
      "outputs": [
        {
          "output_type": "execute_result",
          "data": {
            "text/plain": [
              "0"
            ]
          },
          "metadata": {},
          "execution_count": 34
        }
      ]
    },
    {
      "cell_type": "code",
      "source": [
        "\n",
        "#let's check whether database having any other null value\n",
        "\n",
        "hotel_booking_df.isnull().sum() # As we have seen, no column has any null value"
      ],
      "metadata": {
        "colab": {
          "base_uri": "https://localhost:8080/"
        },
        "id": "barYxZmV_gQo",
        "outputId": "c9406c34-5ade-4a4a-e0f4-27ac8f64637e"
      },
      "execution_count": 35,
      "outputs": [
        {
          "output_type": "execute_result",
          "data": {
            "text/plain": [
              "hotel                             0\n",
              "is_canceled                       0\n",
              "lead_time                         0\n",
              "arrival_date_year                 0\n",
              "arrival_date_month                0\n",
              "arrival_date_week_number          0\n",
              "arrival_date_day_of_month         0\n",
              "stays_in_weekend_nights           0\n",
              "stays_in_week_nights              0\n",
              "adults                            0\n",
              "children                          0\n",
              "babies                            0\n",
              "meal                              0\n",
              "country                           0\n",
              "market_segment                    0\n",
              "distribution_channel              0\n",
              "is_repeated_guest                 0\n",
              "previous_cancellations            0\n",
              "previous_bookings_not_canceled    0\n",
              "reserved_room_type                0\n",
              "assigned_room_type                0\n",
              "booking_changes                   0\n",
              "deposit_type                      0\n",
              "agent                             0\n",
              "days_in_waiting_list              0\n",
              "customer_type                     0\n",
              "adr                               0\n",
              "required_car_parking_spaces       0\n",
              "total_of_special_requests         0\n",
              "reservation_status                0\n",
              "reservation_status_date           0\n",
              "dtype: int64"
            ]
          },
          "metadata": {},
          "execution_count": 35
        }
      ]
    },
    {
      "cell_type": "markdown",
      "source": [
        "Change in datatype for required columns"
      ],
      "metadata": {
        "id": "-Q2fHamc_svy"
      }
    },
    {
      "cell_type": "code",
      "source": [
        "#showing the info of the data to check datatype\n",
        "hotel_booking_df.info()"
      ],
      "metadata": {
        "colab": {
          "base_uri": "https://localhost:8080/"
        },
        "id": "p54Tf-CK_gag",
        "outputId": "07fa370b-f0b6-4951-e1e5-9288afe8048b"
      },
      "execution_count": 37,
      "outputs": [
        {
          "output_type": "stream",
          "name": "stdout",
          "text": [
            "<class 'pandas.core.frame.DataFrame'>\n",
            "RangeIndex: 119390 entries, 0 to 119389\n",
            "Data columns (total 31 columns):\n",
            " #   Column                          Non-Null Count   Dtype  \n",
            "---  ------                          --------------   -----  \n",
            " 0   hotel                           119390 non-null  object \n",
            " 1   is_canceled                     119390 non-null  int64  \n",
            " 2   lead_time                       119390 non-null  int64  \n",
            " 3   arrival_date_year               119390 non-null  int64  \n",
            " 4   arrival_date_month              119390 non-null  object \n",
            " 5   arrival_date_week_number        119390 non-null  int64  \n",
            " 6   arrival_date_day_of_month       119390 non-null  int64  \n",
            " 7   stays_in_weekend_nights         119390 non-null  int64  \n",
            " 8   stays_in_week_nights            119390 non-null  int64  \n",
            " 9   adults                          119390 non-null  int64  \n",
            " 10  children                        119390 non-null  float64\n",
            " 11  babies                          119390 non-null  int64  \n",
            " 12  meal                            119390 non-null  object \n",
            " 13  country                         119390 non-null  object \n",
            " 14  market_segment                  119390 non-null  object \n",
            " 15  distribution_channel            119390 non-null  object \n",
            " 16  is_repeated_guest               119390 non-null  int64  \n",
            " 17  previous_cancellations          119390 non-null  int64  \n",
            " 18  previous_bookings_not_canceled  119390 non-null  int64  \n",
            " 19  reserved_room_type              119390 non-null  object \n",
            " 20  assigned_room_type              119390 non-null  object \n",
            " 21  booking_changes                 119390 non-null  int64  \n",
            " 22  deposit_type                    119390 non-null  object \n",
            " 23  agent                           119390 non-null  float64\n",
            " 24  days_in_waiting_list            119390 non-null  int64  \n",
            " 25  customer_type                   119390 non-null  object \n",
            " 26  adr                             119390 non-null  float64\n",
            " 27  required_car_parking_spaces     119390 non-null  int64  \n",
            " 28  total_of_special_requests       119390 non-null  int64  \n",
            " 29  reservation_status              119390 non-null  object \n",
            " 30  reservation_status_date         119390 non-null  object \n",
            "dtypes: float64(3), int64(16), object(12)\n",
            "memory usage: 28.2+ MB\n"
          ]
        }
      ]
    },
    {
      "cell_type": "code",
      "source": [
        "hotel_booking_df[['children', 'agent']] = hotel_booking_df[['children', 'agent']].astype('int64')"
      ],
      "metadata": {
        "id": "PmsDrhSd_gef"
      },
      "execution_count": 38,
      "outputs": []
    },
    {
      "cell_type": "markdown",
      "source": [
        "####Addition of new column as per requirement"
      ],
      "metadata": {
        "id": "NpVZG53yAhfy"
      }
    },
    {
      "cell_type": "code",
      "source": [
        "#total stay in nights\n",
        "hotel_booking_df['total_stay_in_nights'] = hotel_booking_df ['stays_in_week_nights'] + hotel_booking_df ['stays_in_weekend_nights']\n",
        "hotel_booking_df['total_stay_in_nights'] # We have created a col for total stays in nights by adding week night & weekend nights stay col."
      ],
      "metadata": {
        "id": "kvLVN_t-bpSF",
        "colab": {
          "base_uri": "https://localhost:8080/"
        },
        "outputId": "4f442eb6-ff4a-43f6-9ef3-4ca02e1e5cf6"
      },
      "execution_count": 39,
      "outputs": [
        {
          "output_type": "execute_result",
          "data": {
            "text/plain": [
              "0         0\n",
              "1         0\n",
              "2         1\n",
              "3         1\n",
              "4         2\n",
              "         ..\n",
              "119385    7\n",
              "119386    7\n",
              "119387    7\n",
              "119388    7\n",
              "119389    9\n",
              "Name: total_stay_in_nights, Length: 119390, dtype: int64"
            ]
          },
          "metadata": {},
          "execution_count": 39
        }
      ]
    },
    {
      "cell_type": "code",
      "source": [
        "\n",
        "# We have created a col for revenue using total stay * adr\n",
        "hotel_booking_df['revenue'] = hotel_booking_df['total_stay_in_nights'] *hotel_booking_df['adr']\n",
        "hotel_booking_df['revenue']"
      ],
      "metadata": {
        "colab": {
          "base_uri": "https://localhost:8080/"
        },
        "id": "hZwjPY_yAygv",
        "outputId": "8feb5562-eae3-436d-fe7a-33c6e8d4a86d"
      },
      "execution_count": 40,
      "outputs": [
        {
          "output_type": "execute_result",
          "data": {
            "text/plain": [
              "0            0.00\n",
              "1            0.00\n",
              "2           75.00\n",
              "3           75.00\n",
              "4          196.00\n",
              "           ...   \n",
              "119385     672.98\n",
              "119386    1578.01\n",
              "119387    1103.97\n",
              "119388     730.80\n",
              "119389    1360.80\n",
              "Name: revenue, Length: 119390, dtype: float64"
            ]
          },
          "metadata": {},
          "execution_count": 40
        }
      ]
    },
    {
      "cell_type": "code",
      "source": [
        "\n",
        "# Also, for information, we will add a column with total guest coming for each booking\n",
        "hotel_booking_df['total_guest'] = hotel_booking_df['adults'] + hotel_booking_df['children'] + hotel_booking_df['babies']\n",
        "hotel_booking_df['total_guest'].sum()"
      ],
      "metadata": {
        "id": "ahXydka4bpM5",
        "colab": {
          "base_uri": "https://localhost:8080/"
        },
        "outputId": "fa51ef44-bb9e-4819-c669-8bd43822c164"
      },
      "execution_count": 41,
      "outputs": [
        {
          "output_type": "execute_result",
          "data": {
            "text/plain": [
              "234988"
            ]
          },
          "metadata": {},
          "execution_count": 41
        }
      ]
    },
    {
      "cell_type": "code",
      "source": [
        "\n",
        "# for understanding, from col 'is_canceled': we will replace the value from (0,1) to not_canceled, is canceled.\n",
        "\n",
        "hotel_booking_df['is_canceled'] = hotel_booking_df['is_canceled'].replace([0,1], ['not canceled', 'is canceled'])\n",
        "hotel_booking_df['is_canceled']"
      ],
      "metadata": {
        "id": "1WlgD9d-bpKQ",
        "colab": {
          "base_uri": "https://localhost:8080/"
        },
        "outputId": "7f49feac-05f7-4de5-d9f5-26063be7f34c"
      },
      "execution_count": 42,
      "outputs": [
        {
          "output_type": "execute_result",
          "data": {
            "text/plain": [
              "0         not canceled\n",
              "1         not canceled\n",
              "2         not canceled\n",
              "3         not canceled\n",
              "4         not canceled\n",
              "              ...     \n",
              "119385    not canceled\n",
              "119386    not canceled\n",
              "119387    not canceled\n",
              "119388    not canceled\n",
              "119389    not canceled\n",
              "Name: is_canceled, Length: 119390, dtype: object"
            ]
          },
          "metadata": {},
          "execution_count": 42
        }
      ]
    },
    {
      "cell_type": "code",
      "source": [
        "\n",
        "#Same for 'is_repeated_guest' col\n",
        "hotel_booking_df['is_repeated_guest'] = hotel_booking_df['is_repeated_guest'].replace([0,1], ['not repeated', 'repeated'])\n",
        "hotel_booking_df['is_repeated_guest']"
      ],
      "metadata": {
        "id": "GuizgXXqbpHq",
        "colab": {
          "base_uri": "https://localhost:8080/"
        },
        "outputId": "cea2165e-6c40-4900-e4a8-c383ae5c2949"
      },
      "execution_count": 43,
      "outputs": [
        {
          "output_type": "execute_result",
          "data": {
            "text/plain": [
              "0         not repeated\n",
              "1         not repeated\n",
              "2         not repeated\n",
              "3         not repeated\n",
              "4         not repeated\n",
              "              ...     \n",
              "119385    not repeated\n",
              "119386    not repeated\n",
              "119387    not repeated\n",
              "119388    not repeated\n",
              "119389    not repeated\n",
              "Name: is_repeated_guest, Length: 119390, dtype: object"
            ]
          },
          "metadata": {},
          "execution_count": 43
        }
      ]
    },
    {
      "cell_type": "code",
      "source": [
        "\n",
        "#Same for 'is_repeated_guest' col\n",
        "hotel_booking_df['is_repeated_guest'] = hotel_booking_df['is_repeated_guest'].replace([0,1], ['not repeated', 'repeated'])\n",
        "hotel_booking_df['is_repeated_guest']"
      ],
      "metadata": {
        "id": "rX1Dvtt_QNTW",
        "colab": {
          "base_uri": "https://localhost:8080/"
        },
        "outputId": "2a7025c0-93dc-4da7-8e37-8b4661bf8faf"
      },
      "execution_count": 44,
      "outputs": [
        {
          "output_type": "execute_result",
          "data": {
            "text/plain": [
              "0         not repeated\n",
              "1         not repeated\n",
              "2         not repeated\n",
              "3         not repeated\n",
              "4         not repeated\n",
              "              ...     \n",
              "119385    not repeated\n",
              "119386    not repeated\n",
              "119387    not repeated\n",
              "119388    not repeated\n",
              "119389    not repeated\n",
              "Name: is_repeated_guest, Length: 119390, dtype: object"
            ]
          },
          "metadata": {},
          "execution_count": 44
        }
      ]
    },
    {
      "cell_type": "code",
      "source": [
        "\n",
        "#Now, we will check overall revenue hotel wise\n",
        "hotel_wise_total_revenue = hotel_booking_df.groupby('hotel')['revenue'].sum()\n",
        "hotel_wise_total_revenue"
      ],
      "metadata": {
        "id": "m6Ymo1v9QoJC",
        "colab": {
          "base_uri": "https://localhost:8080/"
        },
        "outputId": "e151d1da-694d-4b9e-bfed-85b8a03ab05e"
      },
      "execution_count": 45,
      "outputs": [
        {
          "output_type": "execute_result",
          "data": {
            "text/plain": [
              "hotel\n",
              "City Hotel      25279469.96\n",
              "Resort Hotel    17444027.57\n",
              "Name: revenue, dtype: float64"
            ]
          },
          "metadata": {},
          "execution_count": 45
        }
      ]
    },
    {
      "cell_type": "code",
      "source": [
        "hotel_booking_df[['hotel', \"revenue\"]]"
      ],
      "metadata": {
        "id": "eWOhJKcbQMj8",
        "colab": {
          "base_uri": "https://localhost:8080/",
          "height": 423
        },
        "outputId": "e8af4805-5b33-44c3-bd5f-3a1ab60e76ae"
      },
      "execution_count": 46,
      "outputs": [
        {
          "output_type": "execute_result",
          "data": {
            "text/plain": [
              "               hotel  revenue\n",
              "0       Resort Hotel     0.00\n",
              "1       Resort Hotel     0.00\n",
              "2       Resort Hotel    75.00\n",
              "3       Resort Hotel    75.00\n",
              "4       Resort Hotel   196.00\n",
              "...              ...      ...\n",
              "119385    City Hotel   672.98\n",
              "119386    City Hotel  1578.01\n",
              "119387    City Hotel  1103.97\n",
              "119388    City Hotel   730.80\n",
              "119389    City Hotel  1360.80\n",
              "\n",
              "[119390 rows x 2 columns]"
            ],
            "text/html": [
              "\n",
              "  <div id=\"df-4329b5b1-992d-47dc-b087-2530e5f797cb\">\n",
              "    <div class=\"colab-df-container\">\n",
              "      <div>\n",
              "<style scoped>\n",
              "    .dataframe tbody tr th:only-of-type {\n",
              "        vertical-align: middle;\n",
              "    }\n",
              "\n",
              "    .dataframe tbody tr th {\n",
              "        vertical-align: top;\n",
              "    }\n",
              "\n",
              "    .dataframe thead th {\n",
              "        text-align: right;\n",
              "    }\n",
              "</style>\n",
              "<table border=\"1\" class=\"dataframe\">\n",
              "  <thead>\n",
              "    <tr style=\"text-align: right;\">\n",
              "      <th></th>\n",
              "      <th>hotel</th>\n",
              "      <th>revenue</th>\n",
              "    </tr>\n",
              "  </thead>\n",
              "  <tbody>\n",
              "    <tr>\n",
              "      <th>0</th>\n",
              "      <td>Resort Hotel</td>\n",
              "      <td>0.00</td>\n",
              "    </tr>\n",
              "    <tr>\n",
              "      <th>1</th>\n",
              "      <td>Resort Hotel</td>\n",
              "      <td>0.00</td>\n",
              "    </tr>\n",
              "    <tr>\n",
              "      <th>2</th>\n",
              "      <td>Resort Hotel</td>\n",
              "      <td>75.00</td>\n",
              "    </tr>\n",
              "    <tr>\n",
              "      <th>3</th>\n",
              "      <td>Resort Hotel</td>\n",
              "      <td>75.00</td>\n",
              "    </tr>\n",
              "    <tr>\n",
              "      <th>4</th>\n",
              "      <td>Resort Hotel</td>\n",
              "      <td>196.00</td>\n",
              "    </tr>\n",
              "    <tr>\n",
              "      <th>...</th>\n",
              "      <td>...</td>\n",
              "      <td>...</td>\n",
              "    </tr>\n",
              "    <tr>\n",
              "      <th>119385</th>\n",
              "      <td>City Hotel</td>\n",
              "      <td>672.98</td>\n",
              "    </tr>\n",
              "    <tr>\n",
              "      <th>119386</th>\n",
              "      <td>City Hotel</td>\n",
              "      <td>1578.01</td>\n",
              "    </tr>\n",
              "    <tr>\n",
              "      <th>119387</th>\n",
              "      <td>City Hotel</td>\n",
              "      <td>1103.97</td>\n",
              "    </tr>\n",
              "    <tr>\n",
              "      <th>119388</th>\n",
              "      <td>City Hotel</td>\n",
              "      <td>730.80</td>\n",
              "    </tr>\n",
              "    <tr>\n",
              "      <th>119389</th>\n",
              "      <td>City Hotel</td>\n",
              "      <td>1360.80</td>\n",
              "    </tr>\n",
              "  </tbody>\n",
              "</table>\n",
              "<p>119390 rows × 2 columns</p>\n",
              "</div>\n",
              "      <button class=\"colab-df-convert\" onclick=\"convertToInteractive('df-4329b5b1-992d-47dc-b087-2530e5f797cb')\"\n",
              "              title=\"Convert this dataframe to an interactive table.\"\n",
              "              style=\"display:none;\">\n",
              "        \n",
              "  <svg xmlns=\"http://www.w3.org/2000/svg\" height=\"24px\"viewBox=\"0 0 24 24\"\n",
              "       width=\"24px\">\n",
              "    <path d=\"M0 0h24v24H0V0z\" fill=\"none\"/>\n",
              "    <path d=\"M18.56 5.44l.94 2.06.94-2.06 2.06-.94-2.06-.94-.94-2.06-.94 2.06-2.06.94zm-11 1L8.5 8.5l.94-2.06 2.06-.94-2.06-.94L8.5 2.5l-.94 2.06-2.06.94zm10 10l.94 2.06.94-2.06 2.06-.94-2.06-.94-.94-2.06-.94 2.06-2.06.94z\"/><path d=\"M17.41 7.96l-1.37-1.37c-.4-.4-.92-.59-1.43-.59-.52 0-1.04.2-1.43.59L10.3 9.45l-7.72 7.72c-.78.78-.78 2.05 0 2.83L4 21.41c.39.39.9.59 1.41.59.51 0 1.02-.2 1.41-.59l7.78-7.78 2.81-2.81c.8-.78.8-2.07 0-2.86zM5.41 20L4 18.59l7.72-7.72 1.47 1.35L5.41 20z\"/>\n",
              "  </svg>\n",
              "      </button>\n",
              "      \n",
              "  <style>\n",
              "    .colab-df-container {\n",
              "      display:flex;\n",
              "      flex-wrap:wrap;\n",
              "      gap: 12px;\n",
              "    }\n",
              "\n",
              "    .colab-df-convert {\n",
              "      background-color: #E8F0FE;\n",
              "      border: none;\n",
              "      border-radius: 50%;\n",
              "      cursor: pointer;\n",
              "      display: none;\n",
              "      fill: #1967D2;\n",
              "      height: 32px;\n",
              "      padding: 0 0 0 0;\n",
              "      width: 32px;\n",
              "    }\n",
              "\n",
              "    .colab-df-convert:hover {\n",
              "      background-color: #E2EBFA;\n",
              "      box-shadow: 0px 1px 2px rgba(60, 64, 67, 0.3), 0px 1px 3px 1px rgba(60, 64, 67, 0.15);\n",
              "      fill: #174EA6;\n",
              "    }\n",
              "\n",
              "    [theme=dark] .colab-df-convert {\n",
              "      background-color: #3B4455;\n",
              "      fill: #D2E3FC;\n",
              "    }\n",
              "\n",
              "    [theme=dark] .colab-df-convert:hover {\n",
              "      background-color: #434B5C;\n",
              "      box-shadow: 0px 1px 3px 1px rgba(0, 0, 0, 0.15);\n",
              "      filter: drop-shadow(0px 1px 2px rgba(0, 0, 0, 0.3));\n",
              "      fill: #FFFFFF;\n",
              "    }\n",
              "  </style>\n",
              "\n",
              "      <script>\n",
              "        const buttonEl =\n",
              "          document.querySelector('#df-4329b5b1-992d-47dc-b087-2530e5f797cb button.colab-df-convert');\n",
              "        buttonEl.style.display =\n",
              "          google.colab.kernel.accessAllowed ? 'block' : 'none';\n",
              "\n",
              "        async function convertToInteractive(key) {\n",
              "          const element = document.querySelector('#df-4329b5b1-992d-47dc-b087-2530e5f797cb');\n",
              "          const dataTable =\n",
              "            await google.colab.kernel.invokeFunction('convertToInteractive',\n",
              "                                                     [key], {});\n",
              "          if (!dataTable) return;\n",
              "\n",
              "          const docLinkHtml = 'Like what you see? Visit the ' +\n",
              "            '<a target=\"_blank\" href=https://colab.research.google.com/notebooks/data_table.ipynb>data table notebook</a>'\n",
              "            + ' to learn more about interactive tables.';\n",
              "          element.innerHTML = '';\n",
              "          dataTable['output_type'] = 'display_data';\n",
              "          await google.colab.output.renderOutput(dataTable, element);\n",
              "          const docLink = document.createElement('div');\n",
              "          docLink.innerHTML = docLinkHtml;\n",
              "          element.appendChild(docLink);\n",
              "        }\n",
              "      </script>\n",
              "    </div>\n",
              "  </div>\n",
              "  "
            ]
          },
          "metadata": {},
          "execution_count": 46
        }
      ]
    },
    {
      "cell_type": "markdown",
      "source": [
        "What all manipulations have you done and insights you found?"
      ],
      "metadata": {
        "id": "dm4yFf5vBeOd"
      }
    },
    {
      "cell_type": "markdown",
      "source": [
        "****We have done few manipulations in the Data.\n",
        "\n",
        "----Addition of columns----"
      ],
      "metadata": {
        "id": "uNmLIha4BjAs"
      }
    },
    {
      "cell_type": "markdown",
      "source": [
        "We have seen that there are few columns required in Data to analysis purpose which can be evaluated from the given columns.\n",
        "\n",
        "a) Total Guests: This columns will help us to evaluate the volumes of total guest and revenue as well. We get this value by adding total no. of Adults, Children & babies.\n",
        "\n",
        "b) Revenue: We find revenue by multiplying adr & total guest. This column will use to analyse the profit and growth of each hotel.\n",
        "\n",
        "----Delete of columns----\n",
        "\n",
        "a)company: As we have seen that this columns has almost Null data. so we have delete this column as this will not make any impact in the analysis.\n",
        "\n",
        "----Replace of Values in columns----\n",
        "\n",
        "a)is_canceled, is_not_canceled & is_repeated_guest: We have seen, that these columns contains only 0,1 as values which represent the status of booing cancellation. We replace these values (0,1) from 'Canceled' & 'Not canceled. In the same way for column 'is_repeated_guest', we replace 0,1 from 'Repeated' & 'Not repeated'. Now this values will help to make better understanding while visulization.\n",
        "\n",
        "----Changes in data type of values in columns----\n",
        "\n",
        "a)Agent & Children: We checked that these columns contains float values, which is not making any sense in data as this values repreasent the count of guest & ID of agent. So we have changed the data type of these columns from 'float' to 'Integer'.\n",
        "\n",
        "----Removed is_null values & duplicate entries----\n",
        "\n",
        "a)Before visualize any data from the data set we have to do data wrangling. For that, we have checked the null value in all the columns. After checking, when we are getting a column which has more number of null values, dropped that column by using the 'drop' method. In this way, we are dropped the 'company' column. When we are find minimal number of null values, filling thse null values with necesary values as per requirement by using .fillna().\n",
        "\n",
        "b) In the same, we have checked if there is any duplicacy in data & we found that there are few rows have duplicate data. So we have removed those row from data set by using .drop_duplicates() method.\n",
        "\n",
        "In this way, we have removed unneccesary data & make our data clean and ready to analyse."
      ],
      "metadata": {
        "id": "HtZkNNpaBqDh"
      }
    },
    {
      "cell_type": "markdown",
      "source": [
        "####*4. Data Vizualization, Storytelling & Experimenting with charts : Understand the relationships between variables*"
      ],
      "metadata": {
        "id": "yKMQ8OGqB2tk"
      }
    },
    {
      "cell_type": "markdown",
      "source": [
        "Chart - 1"
      ],
      "metadata": {
        "id": "d-HvAAafCI--"
      }
    },
    {
      "cell_type": "code",
      "source": [
        "# Let's create a function which will give us bar chart of data respective with a col.\n",
        "def get_count_from_column_bar(df, column_label):\n",
        "  df_grpd = df[column_label].value_counts()\n",
        "  df_grpd = pd.DataFrame({'index':df_grpd.index, 'count':df_grpd.values})\n",
        "  return df_grpd\n",
        "\n",
        "# plot a pie chart from grouped data\n",
        "def plot_bar_chart_from_column(df, column_label, t1):\n",
        "  df_grpd = get_count_from_column(df, column_label)\n",
        "  fig, ax = plt.subplots(figsize=(14, 6))\n",
        "  c= ['g','r','b','c','y']\n",
        "  ax.bar(df_grpd['index'], df_grpd['count'], width = 0.4, align = 'edge', edgecolor = 'black', linewidth = 4, color = c, linestyle = ':', alpha = 0.5)\n",
        "  plt.title(t1, bbox={'facecolor':'0.8', 'pad':3})\n",
        "  plt.legend()\n",
        "  plt.ylabel('Count')\n",
        "  plt.xticks(rotation = 15) # use to format the lable of x-axis\n",
        "  plt.xlabel(column_label)\n",
        "  plt.show()"
      ],
      "metadata": {
        "id": "1wpYFyxTCPVM"
      },
      "execution_count": 47,
      "outputs": []
    },
    {
      "cell_type": "code",
      "source": [
        "# Chart - 1 visualization code\n",
        "\n",
        "def get_count_from_column(df, column_label):\n",
        "  df_grpd = df[column_label].value_counts()\n",
        "  df_grpd = pd.DataFrame({'index':df_grpd.index, 'count':df_grpd.values})\n",
        "  return df_grpd\n",
        "\n",
        "# plot a pie chart from grouped data\n",
        "def plot_pie_chart_from_column(df, column_label, t1, exp):\n",
        "  df_grpd = get_count_from_column(df, column_label)\n",
        "  fig, ax = plt.subplots(figsize=(14,9))\n",
        "  ax.pie(df_grpd.loc[:, 'count'], labels=df_grpd.loc[:, 'index'], autopct='%1.2f%%',startangle=90,shadow=True, labeldistance = 1, explode = exp)\n",
        "  plt.title(t1, bbox={'facecolor':'0.8', 'pad':3})\n",
        "  ax.axis('equal')\n",
        "  plt.legend()\n",
        "  plt.show() "
      ],
      "metadata": {
        "id": "0PCWjY1SQ-X7"
      },
      "execution_count": 48,
      "outputs": []
    },
    {
      "cell_type": "code",
      "source": [
        "\n",
        "exp1 = [0.05,0.05]\n",
        "plot_pie_chart_from_column(hotel_booking_df, 'hotel', 'Booking percentage of Hotel by Name', exp1)"
      ],
      "metadata": {
        "id": "aCLFNSSIQ-F5",
        "colab": {
          "base_uri": "https://localhost:8080/",
          "height": 536
        },
        "outputId": "df534e25-f79b-4f4a-90e3-b305af5b22c9"
      },
      "execution_count": 49,
      "outputs": [
        {
          "output_type": "display_data",
          "data": {
            "text/plain": [
              "<Figure size 1008x648 with 1 Axes>"
            ],
            "image/png": "[encoded data removed]"
          },
          "metadata": {}
        }
      ]
    },
    {
      "cell_type": "markdown",
      "source": [
        "1. Why did you pick the specific chart?"
      ],
      "metadata": {
        "id": "4uSIgTfTCksr"
      }
    },
    {
      "cell_type": "markdown",
      "source": [
        "*To present the data that in which hotel more booking have been done.*"
      ],
      "metadata": {
        "id": "UOTKX7-dCo9u"
      }
    },
    {
      "cell_type": "markdown",
      "source": [
        "2. What is/are the insight(s) found from the chart?"
      ],
      "metadata": {
        "id": "kSocKZ6aCsMZ"
      }
    },
    {
      "cell_type": "markdown",
      "source": [
        "*Here, we found that the booking number is Higher in City Hotel which is 61.12% than Resort Hotel which is 38.87%. Hence we can say that City hotel has more consumption*"
      ],
      "metadata": {
        "id": "1qYJjfmOCvyu"
      }
    },
    {
      "cell_type": "markdown",
      "source": [
        "3. Will the gained insights help creating a positive business impact?"
      ],
      "metadata": {
        "id": "MHDLena6Cy9s"
      }
    },
    {
      "cell_type": "markdown",
      "source": [
        "Are there any insights that lead to negative growth? Justify with specific reason."
      ],
      "metadata": {
        "id": "NwaWm5OEC23u"
      }
    },
    {
      "cell_type": "markdown",
      "source": [
        "Yes, for both Hotels, this data making some positive business impact : -\n",
        "\n",
        "City Hotel :- Provided more services to attract more guest to increase more revenue.\n",
        "\n",
        "Resort Hotel :- Find solution to attract guest and find what city hotel did to attract guest."
      ],
      "metadata": {
        "id": "PK75AEKoC6ZE"
      }
    },
    {
      "cell_type": "markdown",
      "source": [
        "Chart - 2"
      ],
      "metadata": {
        "id": "2fw8CbJqDBHL"
      }
    },
    {
      "cell_type": "code",
      "source": [
        "# Chart - 2 visualization code\n",
        "exp4 = [0,0.2]\n",
        "plot_pie_chart_from_column(hotel_booking_df, 'is_canceled', 'Cancellation volume of Hotel', exp4)"
      ],
      "metadata": {
        "colab": {
          "base_uri": "https://localhost:8080/",
          "height": 536
        },
        "id": "2rUNFxxRDOU9",
        "outputId": "3d4c04ac-7e15-4159-f0ff-201e7dd2a995"
      },
      "execution_count": 50,
      "outputs": [
        {
          "output_type": "display_data",
          "data": {
            "text/plain": [
              "<Figure size 1008x648 with 1 Axes>"
            ],
            "image/png": "[encoded data removed]"
          },
          "metadata": {}
        }
      ]
    },
    {
      "cell_type": "markdown",
      "source": [
        "1. Why did you pick the specific chart?\n",
        "In this chart, we presented the cancellation rate of the hotels booking\n",
        "\n",
        "2. What is/are the insight(s) found from the chart?\n",
        "Here, we found that overall more than 25% of booking got cancelled\n",
        "\n",
        "3. Will the gained insights help creating a positive business impact?\n",
        "Are there any insights that lead to negative growth? Justify with specific reason.\n",
        "\n",
        "Here, we can see, that more than 27% booking getting cancelled.\n",
        "\n",
        "Solution: We can check the reason of cancellation of a booking & need to get this sort on business level"
      ],
      "metadata": {
        "id": "eFZK-7u8DV-m"
      }
    },
    {
      "cell_type": "markdown",
      "source": [
        "Chart - 3"
      ],
      "metadata": {
        "id": "MqC4DsauDcSk"
      }
    },
    {
      "cell_type": "code",
      "source": [
        "# Chart - 3 visualization code\n",
        "plot_bar_chart_from_column(hotel_booking_df, 'distribution_channel', 'Distibution Channel Volume')"
      ],
      "metadata": {
        "colab": {
          "base_uri": "https://localhost:8080/",
          "height": 456
        },
        "id": "IsFrOI--Deuu",
        "outputId": "7806812d-7f04-4de7-bf9c-ecade795c91b"
      },
      "execution_count": 51,
      "outputs": [
        {
          "output_type": "stream",
          "name": "stderr",
          "text": [
            "WARNING:matplotlib.legend:No artists with labels found to put in legend.  Note that artists whose label start with an underscore are ignored when legend() is called with no argument.\n"
          ]
        },
        {
          "output_type": "display_data",
          "data": {
            "text/plain": [
              "<Figure size 1008x432 with 1 Axes>"
            ],
            "image/png": "[encoded data removed]"
          },
          "metadata": {
            "needs_background": "light"
          }
        }
      ]
    },
    {
      "cell_type": "markdown",
      "source": [
        "1. Why did you pick the specific chart?\n",
        "The following chart represent maximum volume of booking done through which channel to represnt the numbers in descending order we chose bar graph\n",
        "\n",
        "2. What is/are the insight(s) found from the chart?\n",
        "As clearly seen TA/TO(Tour of Agent & Tour of operator) is highest, recommending to continue booking through TA/TO\n",
        "\n",
        "3. Will the gained insights help creating a positive business impact?\n",
        "Are there any insights that lead to negative growth? Justify with specific reason.\n",
        "\n",
        "Yes this shows positive business impact.\n",
        "\n",
        "Higher the number of TA/TO will help to increase the revenue generation of Hotel."
      ],
      "metadata": {
        "id": "C6IrH5suDnwV"
      }
    },
    {
      "cell_type": "markdown",
      "source": [
        "Chart - 4"
      ],
      "metadata": {
        "id": "2YMjdCmWDtGB"
      }
    },
    {
      "cell_type": "code",
      "source": [
        "# Chart - 4 visualization code\n",
        "exp2 = [0.2, 0,0,0,0,0,0,0,0,0,0,0.1]\n",
        "plot_pie_chart_from_column(hotel_booking_df, 'arrival_date_month', 'Month-wise booking', exp2)"
      ],
      "metadata": {
        "colab": {
          "base_uri": "https://localhost:8080/",
          "height": 536
        },
        "id": "uhanwVAuDvN_",
        "outputId": "e7fc008b-3d80-4628-9fd3-99bc7388133a"
      },
      "execution_count": 52,
      "outputs": [
        {
          "output_type": "display_data",
          "data": {
            "text/plain": [
              "<Figure size 1008x648 with 1 Axes>"
            ],
            "image/png": "[encoded data removed]"
          },
          "metadata": {}
        }
      ]
    },
    {
      "cell_type": "markdown",
      "source": [
        "1. Why did you pick the specific chart?\n",
        "To show the percentage share of booking in each month,on overall level\n",
        "\n",
        "2. What is/are the insight(s) found from the chart?\n",
        "The above percentage shows month May, July and Aug are the highest booking months due to holiday season. Recommending aggressive advertisement to lure more and more customers.\n",
        "\n",
        "3. Will the gained insights help creating a positive business impact?\n",
        "Are there any insights that lead to negative growth? Justify with specific reason.\n",
        "\n",
        "Yes, with increased volume of visitors will help hotel to manage revenue in down time, will also help employee satisfaction and retention."
      ],
      "metadata": {
        "id": "7ct49fOeD33A"
      }
    },
    {
      "cell_type": "markdown",
      "source": [
        "Chart - 5"
      ],
      "metadata": {
        "id": "jRRxQ6mFD50r"
      }
    },
    {
      "cell_type": "code",
      "source": [
        "# Chart - 5 visualization code\n",
        "exp3 = [0,0.3]\n",
        "plot_pie_chart_from_column(hotel_booking_df, 'is_repeated_guest', 'Guest repeating status', exp3)"
      ],
      "metadata": {
        "colab": {
          "base_uri": "https://localhost:8080/",
          "height": 536
        },
        "id": "fs0UW3fXD9l7",
        "outputId": "66cac6b5-ef97-40be-c7e6-d37acee128a3"
      },
      "execution_count": 53,
      "outputs": [
        {
          "output_type": "display_data",
          "data": {
            "text/plain": [
              "<Figure size 1008x648 with 1 Axes>"
            ],
            "image/png": "[encoded data removed]"
          },
          "metadata": {}
        }
      ]
    },
    {
      "cell_type": "markdown",
      "source": [
        "1. Why did you pick the specific chart?\n",
        "To show the percentage share of repeated & non-repeated guests.\n",
        "\n",
        "2. What is/are the insight(s) found from the chart?\n",
        "Here, we can see that the number of repeated guests is very less as compared to overall guests\n",
        "\n",
        "3. Will the gained insights help creating a positive business impact?\n",
        "Are there any insights that lead to negative growth? Justify with specific reason.\n",
        "\n",
        "We can give alluring offers to non-repetitive customers during Off seasons to enhance revenue"
      ],
      "metadata": {
        "id": "r54cWF5rEFgS"
      }
    },
    {
      "cell_type": "markdown",
      "source": [
        "Chart - 6"
      ],
      "metadata": {
        "id": "Ov1s9a9zEHqL"
      }
    },
    {
      "cell_type": "code",
      "source": [
        "\n",
        "# Chart - 6 visualization code\n",
        "plot_bar_chart_from_column(hotel_booking_df, 'assigned_room_type', 'Assigment of room by type')"
      ],
      "metadata": {
        "colab": {
          "base_uri": "https://localhost:8080/",
          "height": 445
        },
        "id": "icu1QLlHEKl8",
        "outputId": "28887c41-7e2e-427f-e1ad-82bfae0d5adf"
      },
      "execution_count": 54,
      "outputs": [
        {
          "output_type": "stream",
          "name": "stderr",
          "text": [
            "WARNING:matplotlib.legend:No artists with labels found to put in legend.  Note that artists whose label start with an underscore are ignored when legend() is called with no argument.\n"
          ]
        },
        {
          "output_type": "display_data",
          "data": {
            "text/plain": [
              "<Figure size 1008x432 with 1 Axes>"
            ],
            "image/png": "[encoded data removed]"
          },
          "metadata": {
            "needs_background": "light"
          }
        }
      ]
    },
    {
      "cell_type": "markdown",
      "source": [
        "1. Why did you pick the specific chart?\n",
        "To show distribution by volume, which room is alotted.\n",
        "\n",
        "2. What is/are the insight(s) found from the chart?\n",
        "This chart shows room type 'A' is most prefered by guest.\n",
        "\n",
        "3. Will the gained insights help creating a positive business impact?\n",
        "Are there any insights that lead to negative growth? Justify with specific reason.\n",
        "\n",
        "Yes, Positive impact because 'A','D','E' is more prefered by guest due to better services offered in room type."
      ],
      "metadata": {
        "id": "otE9TIUKEPIa"
      }
    },
    {
      "cell_type": "markdown",
      "source": [
        "Chart - 7"
      ],
      "metadata": {
        "id": "0hD1oHBgEUz1"
      }
    },
    {
      "cell_type": "code",
      "source": [
        "\n",
        "guest_month_wise = pd.DataFrame(hotel_booking_df[['arrival_date_month', 'total_guest']])\n",
        "guest_month_wise_df = guest_month_wise.groupby(['arrival_date_month'])['total_guest'].sum()\n",
        "guest_month_wise_df.sort_values(ascending = False, inplace = True)"
      ],
      "metadata": {
        "id": "HhKNweNSEXUw"
      },
      "execution_count": 55,
      "outputs": []
    },
    {
      "cell_type": "code",
      "source": [
        "hotel_booking_df['total_guest']"
      ],
      "metadata": {
        "colab": {
          "base_uri": "https://localhost:8080/"
        },
        "id": "RhAEqB97EbZN",
        "outputId": "709bc9d9-9010-4f89-919d-bc6813b55bb3"
      },
      "execution_count": 56,
      "outputs": [
        {
          "output_type": "execute_result",
          "data": {
            "text/plain": [
              "0         2\n",
              "1         2\n",
              "2         1\n",
              "3         1\n",
              "4         2\n",
              "         ..\n",
              "119385    2\n",
              "119386    3\n",
              "119387    2\n",
              "119388    2\n",
              "119389    2\n",
              "Name: total_guest, Length: 119390, dtype: int64"
            ]
          },
          "metadata": {},
          "execution_count": 56
        }
      ]
    },
    {
      "cell_type": "code",
      "source": [
        "\n",
        "market_segment_df = pd.DataFrame(hotel_booking_df['market_segment'])\n",
        "market_segment_df_data = market_segment_df.groupby('market_segment')['market_segment'].count()\n",
        "market_segment_df_data.sort_values(ascending = False, inplace = True)\n",
        "plt.figure(figsize=(15,6))\n",
        "y = np.array([4,5,6])\n",
        "market_segment_df_data.plot(kind = 'bar', color=['g', 'r', 'c', 'b', 'y', 'black', 'brown'], fontsize = 20,legend='True')"
      ],
      "metadata": {
        "colab": {
          "base_uri": "https://localhost:8080/",
          "height": 559
        },
        "id": "ic5JEZ63EgaA",
        "outputId": "78ba00ee-ffa0-4046-9d09-b58f16a0aeff"
      },
      "execution_count": 57,
      "outputs": [
        {
          "output_type": "execute_result",
          "data": {
            "text/plain": [
              "<Axes: xlabel='market_segment'>"
            ]
          },
          "metadata": {},
          "execution_count": 57
        },
        {
          "output_type": "display_data",
          "data": {
            "text/plain": [
              "<Figure size 1080x432 with 1 Axes>"
            ],
            "image/png": "[encoded data removed]"
          },
          "metadata": {
            "needs_background": "light"
          }
        }
      ]
    },
    {
      "cell_type": "markdown",
      "source": [
        "1. Why did you pick the specific chart?\n",
        "In this chart, we have seen market segment by which hotel has booked\n",
        "\n",
        "2. What is/are the insight(s) found from the chart?\n",
        "Online TA has been used most frequently to book hotel by the guest.\n",
        "\n",
        "3. Will the gained insights help creating a positive business impact?\n",
        "Are there any insights that lead to negative growth? Justify with specific reason.\n",
        "\n",
        "Yes, it is creating positive business impact that guests are using Online TA market segment as most prefered to book hotels."
      ],
      "metadata": {
        "id": "OKrSaIuLEzkg"
      }
    },
    {
      "cell_type": "markdown",
      "source": [
        "Chart - 8"
      ],
      "metadata": {
        "id": "7jpCGqakE2b-"
      }
    },
    {
      "cell_type": "code",
      "source": [
        "# Chart - 8 visualization code\n",
        "guest_country_wise = pd.DataFrame(hotel_booking_df[['country', 'total_guest']])\n",
        "guest_country_wise_df = guest_country_wise.groupby(['country'])['total_guest'].sum()\n",
        "guest_country_wise_df.sort_values(ascending = False, inplace = True)\n",
        "top_10_country_by_guest = guest_country_wise_df.head(10)"
      ],
      "metadata": {
        "id": "j80YxLJKEhds"
      },
      "execution_count": 58,
      "outputs": []
    },
    {
      "cell_type": "code",
      "source": [
        "plt.figure(figsize=(12,6))\n",
        "sns.barplot(top_10_country_by_guest.index, top_10_country_by_guest).set(title='Top 10 Countries by Guest')\n",
        "print(\"\\n\\nPRT = Portugal\\nGBR = Great Britain & Northern Ireland\\nFRA = France\\nESP = Spain\\nDEU = Germany\\nITA = Italy\\nIRL = Ireland\\nBRA = Brazil\\nBEL = Belgium\\nNLD = Netherland\")\n",
        "     "
      ],
      "metadata": {
        "id": "CzDtB4GZE8gK"
      },
      "execution_count": null,
      "outputs": []
    },
    {
      "cell_type": "code",
      "source": [],
      "metadata": {
        "id": "l7oeA26GE8je"
      },
      "execution_count": null,
      "outputs": []
    },
    {
      "cell_type": "code",
      "source": [
        "print(\"Churned Customer Shape:-\",df_churn.shape)\n",
        "print(\" \")\n",
        "print(\"customers data with international plan and no voice plan:-\",df_true_intl.shape)\n",
        "print(\" \")\n",
        "print(\"Customers data with no international plan and having voice mail plan:-\",df_true_voice.shape)\n",
        "print(\" \")\n",
        "print(\"Customers data with no international plan and no voice mail plan:-\",df_true_no.shape)\n",
        "print(\" \")\n",
        "print(\"Customers data with both international plan and voice mail plan:-\",df_true_yes.shape)\n",
        "print(\" \")"
      ],
      "metadata": {
        "id": "iAy2DscxvBJ0"
      },
      "execution_count": null,
      "outputs": []
    },
    {
      "cell_type": "code",
      "source": [
        "print(\"Customers data with no international plan and having voice mail plan maximum voice message sent:-\",df_true_voice['Number vmail messages'].max())\n",
        "print(\" \")\n",
        "# Assigning customers data to respective area codes\n",
        "df_true_voice_415=df_true_voice[df_true_voice['Area code']==415]\n",
        "df_true_voice_510=df_true_voice[df_true_voice['Area code']==510]\n",
        "df_true_voice_408=df_true_voice[df_true_voice['Area code']==408]\n",
        "\n",
        "print(\"Customers data with no international plan and having voice mail plan voice message sent in area 415 mean, median:-\",df_true_voice_415['Number vmail messages'].mean(),\",\",df_true_voice_415['Number vmail messages'].median())\n",
        "print(\" \")\n",
        "\n",
        "print(\"Customers data with no international plan and having voice mail plan customer service calls in area 415 mean, median:-\",df_true_voice_415['Customer service calls'].mean(),\",\",df_true_voice_415['Customer service calls'].median())\n",
        "print(\" \")\n",
        "\n",
        "print(\"Customers data with no international plan and having voice mail plan voice message sent in area 510 max, mean, median & customer service calls in area 510 mean, median:-\"\n",
        ",df_true_voice_510['Number vmail messages'].max(),\",\",df_true_voice_510['Number vmail messages'].mean(),\",\",df_true_voice_510['Number vmail messages'].median(),\",\",df_true_voice_510['Customer service calls'].mean(),\",\",df_true_voice_510['Customer service calls'].median())\n",
        "print(\" \")\n",
        "\n",
        "print(\"Customers data with no international plan and having voice mail plan voice message sent in area 408 max, mean, median & customer service calls in area 408 mean, median:-\"\n",
        ",df_true_voice_408['Number vmail messages'].max(),\",\",df_true_voice_408['Number vmail messages'].mean(),\",\",df_true_voice_408['Number vmail messages'].median(),\",\",df_true_voice_408['Customer service calls'].mean(),\",\",df_true_voice_408['Customer service calls'].median())\n",
        "print(\" \")\n",
        "# Assigning customers data to respective area codes\n",
        "df_true_yes_415=df_true_yes[df_true_yes['Area code']==415]\n",
        "df_true_yes_510=df_true_yes[df_true_yes['Area code']==510]\n",
        "df_true_yes_408=df_true_yes[df_true_yes['Area code']==408]\n",
        "\n",
        "print(\"Customers data with both international plan and voice mail plan customer service calls mean & voice mail sent max :-\"\n",
        ",df_true_yes['Customer service calls'].mean(),df_true_yes['Number vmail messages'].max())\n",
        "print(\" \")\n",
        "print(\"Customers data with both international plan and voice mail plan in area 415 voice mail sent max, mean, median :-\"\n",
        ",df_true_yes_415['Number vmail messages'].max(),\",\",df_true_yes_415['Number vmail messages'].mean(),\",\",df_true_yes_415['Number vmail messages'].median())\n",
        "print(\" \")\n",
        "print(\"Customers data with both international plan and voice mail plan in area 510 voice mail sent max, mean, median :-\"\n",
        ",df_true_yes_510['Number vmail messages'].max(),\",\",df_true_yes_510['Number vmail messages'].mean(),\",\",df_true_yes_510['Number vmail messages'].median())\n",
        "print(\" \")\n",
        "print(\"Customers data with both international plan and voice mail plan in area 408 voice mail sent max, mean, median :-\"\n",
        ",df_true_yes_408['Number vmail messages'].max(),\",\",df_true_yes_408['Number vmail messages'].mean(),\",\",df_true_yes_408['Number vmail messages'].median())\n"
      ],
      "metadata": {
        "id": "-SvsZNNWvBG9"
      },
      "execution_count": null,
      "outputs": []
    },
    {
      "cell_type": "code",
      "source": [
        "# Assigning customers data with no international plan and having voice mail plan state list in area 415\n",
        "df_true_voice_415_states=list(df_true_voice_415['State'].unique())\n",
        "print(\"States list where customers data with no international plan and having voice mail plan in area 415 :-\",df_true_voice_415_states)\n",
        "print(\" \")\n",
        "# Assigning customers data  with both international plan and voice mail plan state list in area 415\n",
        "df_true_yes_415_states=list(df_true_yes_415['State'].unique())\n",
        "print(\"States List where customers data  with both international plan and voice mail plan in area 415 :-\",df_true_yes_415_states)\n",
        "print(\" \")\n",
        "# Getting Poor Network connectivity states based on our hypothetical logic\n",
        "poor_netwok_states_415=set(df_true_voice_415_states).intersection(set(df_true_yes_415_states))\n",
        "print(\"Poor Network connectivity states in area 415 :-\",list(poor_netwok_states_415))"
      ],
      "metadata": {
        "id": "DfChKugnvA_z"
      },
      "execution_count": null,
      "outputs": []
    },
    {
      "cell_type": "code",
      "source": [
        "# Assigning Customers data with no international plan and having voice mail plan state list in area 408\n",
        "df_true_voice_408_states=list(df_true_voice_408['State'].unique())\n",
        "print(\"States list Customers data with no international plan and having voice mail plan state list in area 408 :-\",df_true_voice_408_states)\n",
        "print(\" \")\n",
        "# Assigning customers data  with both international plan and voice mail plan state list in area 408\n",
        "df_true_yes_408_states=list(df_true_yes_408['State'].unique())\n",
        "print(\"States list customers data  with both international plan and voice mail plan state list in area 408 :-\",df_true_yes_408_states)\n",
        "print(\" \")\n",
        "# Getting Poor Network connectivity states based on our hypothetical logic\n",
        "poor_netwok_states_408=set(df_true_voice_408_states).intersection(set(df_true_yes_408_states))\n",
        "# Getting Common Poor Network connectivity states based on our hypothetical logic from both area 408 & 415\n",
        "poor_network_states=poor_netwok_states_415.union(poor_netwok_states_408)\n",
        "print(\"Poor Network connectivity states in both area 415, 408 :-\",list(poor_network_states))"
      ],
      "metadata": {
        "id": "WQ8wJGu6bo52"
      },
      "execution_count": null,
      "outputs": []
    },
    {
      "cell_type": "code",
      "source": [
        "# Assigning Customers data with no international plan and having voice mail plan state list in area 510\n",
        "df_true_voice_510_states=list(df_true_voice_510['State'].unique())\n",
        "print(\"States list Customers data with no international plan and having voice mail plan state list in area 510 :-\",df_true_voice_510_states)\n",
        "print(\" \")\n",
        "# Assigning customers data  with both international plan and voice mail plan state list in area 510\n",
        "df_true_yes_510_states=list(df_true_yes_510['State'].unique())\n",
        "print(\"States list customers data  with both international plan and voice mail plan state list in area 510 :-\",df_true_yes_510_states)\n",
        "print(\" \")\n",
        "# Getting Common  Network Maintainance states based on our hypothetical logic from area 510\n",
        "maintainence_states=set(df_true_voice_510_states).intersection(set(df_true_yes_510_states))\n",
        "print(\"Network needs to be maintenanced in states :-\",list(maintainence_states))"
      ],
      "metadata": {
        "id": "Y9A0-HnHbo2u"
      },
      "execution_count": null,
      "outputs": []
    },
    {
      "cell_type": "code",
      "source": [
        "print(f\"Poor Netwok States are {list(poor_network_states)} and Network needs to be maintenanced in states {list(maintainence_states)}.\")"
      ],
      "metadata": {
        "id": "VEKj7DzrbowN"
      },
      "execution_count": null,
      "outputs": []
    },
    {
      "cell_type": "markdown",
      "source": [
        "### What all manipulations have you done and insights you found?"
      ],
      "metadata": {
        "id": "MSa1f5Uengrz"
      }
    },
    {
      "cell_type": "markdown",
      "source": [
        "According to my idea, we will get a clear view of the customers those who \n",
        "aren't churning through graphical representations but we have to deep dive into \n",
        "the churned customer's behaviour and to search for some hypothetical statements and insights which might lead us to the  reason for churning. That's why, I took the Churned customer data to find out the reason or churning behaviour and the pattern. Then, I experimented with different logics to extract some insights. I created some new columns like International, evening, day & night call duration as well as international, day, night, evening call rate per minute. Again, I figured out  those have taken voice mail plan but not using it and sending less no. of voice mails but talking more durations might be facing some network issues as I myself experienced that voice mssg need some more network stability to be sent. Other reasons are noted below which i have found.\n",
        "\n"
      ],
      "metadata": {
        "id": "l7Sf9RblRrPD"
      }
    },
    {
      "cell_type": "markdown",
      "metadata": {
        "id": "uutyZ4aHrdE4"
      },
      "source": [
        "![image.png](data:image/png;base64,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)"
      ]
    },
    {
      "cell_type": "markdown",
      "metadata": {
        "id": "pXVRUBRssJCi"
      },
      "source": [
        "![image.png](data:image/png;base64,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)"
      ]
    },
    {
      "cell_type": "markdown",
      "metadata": {
        "id": "hdP4jEA8sLEa"
      },
      "source": [
        "**Reasons for churn those who have taken international plan:**\n",
        "\n",
        "\n",
        "Because price of  INTL CALL RATE/min for International plan  is same as the price of  INTL CALL RATE/min for NO PLAN. \n",
        "\n",
        "Thus there is no extra  benefit for taking International Plan.\n",
        "\n",
        "**Reasons for churn those who have taken NO plan:**\n",
        "\n",
        "Because they are unsatisfied with the Customer service calls as the average indicates 2.3.\n",
        "(it must be between 1-1.5 for no churn)\n",
        "\n"
      ]
    },
    {
      "cell_type": "markdown",
      "metadata": {
        "id": "85VqE3--s4mx"
      },
      "source": [
        "**Reasons for churn those who have taken VOICE MAIL plan:**\n",
        "\n",
        "1)   Because they are unsatisfied with the Customer service calls as the average indicates 2.3.(it must be between 1-1.5 for no churn)"
      ]
    },
    {
      "cell_type": "markdown",
      "metadata": {
        "id": "pQmfsjY-tFHP"
      },
      "source": [
        "![image.png](data:image/png;base64,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)"
      ]
    },
    {
      "cell_type": "markdown",
      "metadata": {
        "id": "9ayCgDFDtP6q"
      },
      "source": [
        "**Reasons for churn those who have taken BOTH INTERNATIONAL AND  VOICE MAIL plan:**\n",
        "\n",
        "1)Because price of  INTL CALL RATE/min for International plan  is same as the price of  INTL CALL RATE/min for NO PLAN. \n",
        "      Thus there is no extra  benefit for taking International Plan.\n"
      ]
    },
    {
      "cell_type": "markdown",
      "metadata": {
        "id": "avT7Um5Ntq9x"
      },
      "source": [
        "![image.png](data:image/png;base64,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)"
      ]
    },
    {
      "cell_type": "markdown",
      "metadata": {
        "id": "ecsuqxLVts-a"
      },
      "source": [
        "3)\tCustomer service calls mean is 1-1.7 and it’s good and try to keep between 1-1.5.\n",
        "    \n",
        "    Customer service calls(mean)-1.7\n",
        "      \n",
        "    Customer service calls(median)-1\n"
      ]
    },
    {
      "cell_type": "markdown",
      "metadata": {
        "id": "bZnGnnEvv9Gg"
      },
      "source": [
        "I think, for respective area codes those who have taken voice mail plans where there we see a more differnce between the maximum number of vmail sent from that area and the average number of vmail sent for that area. So, here we can conclude like this that \n",
        "\n",
        "   May be customers are using voice mail as per their requirement \n",
        "   or may be there would be some network unstability for  which they won't able to send  more  voice mails while they get access of around 50 voicemails in voicemail plan but they are using on an average of 25-35.\n",
        "\n",
        "   on my own experience i know and felt that the voice mail needs more network stability to get sent through.\n",
        "\n",
        "   If this is the problem , then i have found some states with poor network status and some states network needs  maintenence.  "
      ]
    },
    {
      "cell_type": "markdown",
      "source": [
        "**4)** **POOR NETWORK STATES FROM AREA CODE 415,408 :-**\n",
        "\n",
        "'GA', 'NV', 'OR', 'NC', 'KS', 'MA'\n",
        "\n",
        "**5) STATES NEED MAINTAINANCE OR NEW INSTALLATION REQUIRED :-**\n",
        "\n",
        "'WV', 'NJ'"
      ],
      "metadata": {
        "id": "jtgkv5sk3nRf"
      }
    },
    {
      "cell_type": "markdown",
      "source": [
        "## ***4. Data Vizualization, Storytelling & Experimenting with charts : Understand the relationships between variables***"
      ],
      "metadata": {
        "id": "GF8Ens_Soomf"
      }
    },
    {
      "cell_type": "markdown",
      "source": [
        "#### Chart - 1 - Pie Chart on Dependant Variable i.e., Churn (Univariate)"
      ],
      "metadata": {
        "id": "0wOQAZs5pc--"
      }
    },
    {
      "cell_type": "code",
      "source": [
        "# Chart - 1 visualization code\n",
        "# Dependant Column Value Counts\n",
        "print(dataset.Churn.value_counts())\n",
        "print(\" \")\n",
        "# Dependant Variable Column Visualization\n",
        "dataset['Churn'].value_counts().plot(kind='pie',\n",
        "                              figsize=(15,6),\n",
        "                               autopct=\"%1.1f%%\",\n",
        "                               startangle=90,\n",
        "                               shadow=True,\n",
        "                               labels=['Not Churn(%)','Churn(%)'],\n",
        "                               colors=['skyblue','red'],\n",
        "                               explode=[0,0]\n",
        "                              )"
      ],
      "metadata": {
        "id": "7v_ESjsspbW7"
      },
      "execution_count": null,
      "outputs": []
    },
    {
      "cell_type": "markdown",
      "source": [
        "##### 1. Why did you pick the specific chart?"
      ],
      "metadata": {
        "id": "K5QZ13OEpz2H"
      }
    },
    {
      "cell_type": "markdown",
      "source": [
        "A pie chart expresses a part-to-whole relationship in your data. It's easy to explain the percentage comparison through area covered in a circle with different colors. Where differenet percentage comparison comes into action pie chart is used frequently. So, I used Pie chart and which helped me to get the percentage comparision of the dependant variable."
      ],
      "metadata": {
        "id": "XESiWehPqBRc"
      }
    },
    {
      "cell_type": "markdown",
      "source": [
        "##### 2. What is/are the insight(s) found from the chart?"
      ],
      "metadata": {
        "id": "lQ7QKXXCp7Bj"
      }
    },
    {
      "cell_type": "markdown",
      "source": [
        "From the above chart I got to know that, there are 2850 customers which are not churned which is 85.5% of the whole customers data given in the dataset. In other hand, 483 customers are churned which is 14.%% of the whold customers data given in the dataset.\n",
        "\n",
        "\n",
        "14.5% customers are churned which might look like a small number, but once upon a time the 14.5% was 1.45% which has grown upto 14.5%. So, Immediate action should be taken.\n"
      ],
      "metadata": {
        "id": "C_j1G7yiqdRP"
      }
    },
    {
      "cell_type": "markdown",
      "source": [
        "##### 3. Will the gained insights help creating a positive business impact? \n",
        "Are there any insights that lead to negative growth? Justify with specific reason."
      ],
      "metadata": {
        "id": "448CDAPjqfQr"
      }
    },
    {
      "cell_type": "markdown",
      "source": [
        "Customer churn is often referred to as customer attrition, or customer defection which is the rate at which the customers are lost. Telecom companies often use customer churn as a key business metrics to predict the number of customers that will leave a telecom service provider. Churn is significant in the telecommunication industry because it directly affects the competitiveness of the service provider.\n",
        "\n",
        "It's easy to loss customers but too difficult to aquire one. One churned cutomer will make 3-4 customers away those might be acquired by your teleservice provider \n",
        "with \"POWER OF WORDS\".\n",
        "\n",
        "When Jio provided free internnet services to everyone, and started acquiring maximum number of customers, so cutomer churn rate for other teleservice providers increased and customers from other teleservice providers those who converted to JIO spread the benefit of JIO to their relatives and friends and they also converted too easily. So, \"POWER OF WORDS\" also comes into action that wrong and bad reviews spread first. "
      ],
      "metadata": {
        "id": "3cspy4FjqxJW"
      }
    },
    {
      "cell_type": "markdown",
      "source": [
        "#### Chart - 2 - State Vs. Average True Churn Percentage (Bivariate with Categorical - Numerical)"
      ],
      "metadata": {
        "id": "xJivPyE8q_2k"
      }
    },
    {
      "cell_type": "code",
      "source": [
        "# Chart - 2 visualization code\n",
        "# Showing Average True Churn Percentage state wise\n",
        "# Showing top 10 churned state\n",
        "print((dataset.groupby(['State'])['Churn'].mean()*100).sort_values(ascending = False).reset_index(name=\"Average True CHurn %\").head(10))\n",
        "print(\" \")\n",
        "\n",
        "# State vs. average true churn percantage visualization code\n",
        "# Vizualizing top 10 churned state\n",
        "plt.rcParams['figure.figsize'] = (12, 7)\n",
        "color = plt.cm.copper(np.linspace(0, 0.5, 20))\n",
        "((dataset.groupby(['State'])['Churn'].mean())*100).sort_values(ascending = False).head(10).plot.bar(color = ['violet','indigo','b','g','y','orange','r'])\n",
        "plt.title(\" State with most churn percentage\", fontsize = 20)\n",
        "plt.xlabel('state', fontsize = 15)\n",
        "plt.ylabel('percentage', fontsize = 15)\n",
        "plt.show()"
      ],
      "metadata": {
        "id": "NTkxmIkWq_20"
      },
      "execution_count": null,
      "outputs": []
    },
    {
      "cell_type": "code",
      "source": [
        "# Showing Average True Churn Percentage state wise\n",
        "# Showing top 10 churned state\n",
        "print((dataset.groupby(['State'])['Churn'].mean()*100).sort_values(ascending = True).reset_index(name=\"Average True CHurn %\").head(10))\n",
        "print(\" \")\n",
        "\n",
        "\n",
        "\n",
        "# State vs. average true churn percantage visualization code\n",
        "# Vizualizing bottom 10 churned state\n",
        "plt.rcParams['figure.figsize'] = (12, 7)\n",
        "color = plt.cm.copper(np.linspace(0, 0.5, 20))\n",
        "((dataset.groupby(['State'])['Churn'].mean())*100).sort_values(ascending = True).head(10).plot.bar(color = ['violet','indigo','b','g','y','orange','r'])\n",
        "plt.title(\" State with most churn percentage\", fontsize = 20)\n",
        "plt.xlabel('state', fontsize = 15)\n",
        "plt.ylabel('percentage', fontsize = 15)\n",
        "plt.show()"
      ],
      "metadata": {
        "id": "QAgGhW9H2CLP"
      },
      "execution_count": null,
      "outputs": []
    },
    {
      "cell_type": "markdown",
      "source": [
        "##### 1. Why did you pick the specific chart?"
      ],
      "metadata": {
        "id": "azX1PEddq_20"
      }
    },
    {
      "cell_type": "markdown",
      "source": [
        "Bar charts show the frequency counts of values for the different levels of a categorical or nominal variable. Sometimes, bar charts show other statistics, such as percentages.\n",
        "\n",
        "To show the average percentage of true churn with respect to states, I have used Bar Chart."
      ],
      "metadata": {
        "id": "QTXVnJ-fq_20"
      }
    },
    {
      "cell_type": "markdown",
      "source": [
        "##### 2. What is/are the insight(s) found from the chart?"
      ],
      "metadata": {
        "id": "iyKleWeyq_20"
      }
    },
    {
      "cell_type": "markdown",
      "source": [
        "There are 51 states having different churn rates . \n",
        "\n",
        "**CA, NJ ,TX , MD ,SC ,MI, MS, NV, WA, ME**  are the ones who have higher churn rate more then 21.74% which is more than 50% of average churn rate.\n",
        "\n",
        "Under the Data wrangling, I have defined a hypothetical logic for some states with poor network region and some states where service needs to be maintained or new installations required. So, here states \n",
        "**[ ' NV ', ' NJ ' ]** are common which are in top 10 churned states."
      ],
      "metadata": {
        "id": "DwesNe8zq_21"
      }
    },
    {
      "cell_type": "markdown",
      "source": [
        "##### 3. Will the gained insights help creating a positive business impact? \n",
        "Are there any insights that lead to negative growth? Justify with specific reason."
      ],
      "metadata": {
        "id": "8-UX51ofq_21"
      }
    },
    {
      "cell_type": "markdown",
      "source": [
        "Yes, the data of state wise churning depicts that 10% of a large state is same as 20% of a smaller state. So, we can't neglect the churn rates and will have to sagreggate based on the area covereage in respective states. Still, priotizing to actionable tasks we should try to figure out the issues in top 10 churning states first.\n",
        "\n",
        "The issue might be poor network coverage or negligible maintaince on existing antenna, or total area coverage & no. of mobile tower or users is low or new towers needs to be installed to coverage additional areas. "
      ],
      "metadata": {
        "id": "nW7-bqD0q_21"
      }
    },
    {
      "cell_type": "markdown",
      "source": [
        "#### Chart - 3 - Account Length with Churn Wise (Univariate)"
      ],
      "metadata": {
        "id": "Of3PJYNbrGff"
      }
    },
    {
      "cell_type": "code",
      "source": [
        "# Chart - 3 visualization code\n",
        "# One Digit Account Length \n",
        "print(dataset[dataset['Account length']<=9].loc[:,['Churn']].value_counts())\n",
        "print(\" \")\n",
        "\n",
        "# Visualizing One Digit Account Length Based on Churn percentage\n",
        "dataset[dataset['Account length']<=9].loc[:,['Churn']].value_counts().plot(kind='pie',\n",
        "                              figsize=(15,6),\n",
        "                               autopct=\"%1.1f%%\",\n",
        "                               startangle=90,\n",
        "                               shadow=True,\n",
        "                               labels=['No','Yes'],\n",
        "                               colors=['skyblue','red'],\n",
        "                               explode=[0,0]\n",
        "                              )"
      ],
      "metadata": {
        "id": "tnFltgWlrGfg"
      },
      "execution_count": null,
      "outputs": []
    },
    {
      "cell_type": "code",
      "source": [
        "# Two Digit Account Length \n",
        "print(dataset[(dataset['Account length']<=99) & (dataset['Account length']>=10)].loc[:,['Churn']].value_counts())\n",
        "print(\" \")\n",
        "\n",
        "# Visualizing Two Digit Account Length Based on Churn percentage\n",
        "dataset[(dataset['Account length']<=99) & (dataset['Account length']>=10)].loc[:,['Churn']].value_counts().plot(kind='pie',\n",
        "                              figsize=(15,6),\n",
        "                               autopct=\"%1.1f%%\",\n",
        "                               startangle=90,\n",
        "                               shadow=True,\n",
        "                               labels=['No','Yes'],\n",
        "                               colors=['skyblue','red'],\n",
        "                               explode=[0,0]\n",
        "                              )"
      ],
      "metadata": {
        "id": "Fdz8HrS44VH8"
      },
      "execution_count": null,
      "outputs": []
    },
    {
      "cell_type": "code",
      "source": [
        "# Three Digit Account Length \n",
        "print(dataset[(dataset['Account length']<=dataset['Account length'].max()) & (dataset['Account length']>=100)].loc[:,['Churn']].value_counts())\n",
        "print(\" \")\n",
        "\n",
        "# Visualizing Three Digit Account Length Based on Churn percentage\n",
        "dataset[(dataset['Account length']<=dataset['Account length'].max()) & (dataset['Account length']>=100)].loc[:,['Churn']].value_counts().plot(kind='pie',\n",
        "                              figsize=(15,6),\n",
        "                               autopct=\"%1.1f%%\",\n",
        "                               startangle=90,\n",
        "                               shadow=True,\n",
        "                               labels=['No','Yes'],\n",
        "                               colors=['skyblue','red'],\n",
        "                               explode=[0,0]\n",
        "                              )"
      ],
      "metadata": {
        "id": "qWsbjPvz4lXx"
      },
      "execution_count": null,
      "outputs": []
    },
    {
      "cell_type": "code",
      "source": [
        "# Box Plot for Account Length attribute\n",
        "dataset.boxplot(column='Account length',by='Churn')"
      ],
      "metadata": {
        "id": "yAwxZ3sO6DRC"
      },
      "execution_count": null,
      "outputs": []
    },
    {
      "cell_type": "markdown",
      "source": [
        "##### 1. Why did you pick the specific chart?"
      ],
      "metadata": {
        "id": "w8bcvZxarGfg"
      }
    },
    {
      "cell_type": "markdown",
      "source": [
        "A pie chart expresses a part-to-whole relationship in your data. It's easy to explain the percentage comparison through area covered in a circle with different colors. Where differenet percentage comparison comes into action pie chart is used frequently. So, I used Pie chart and which helped me to get the percentage comparision of the churn percentage account length wise.\n",
        "\n",
        "Box plots are used to show distributions of numeric data values, especially when you want to compare them between multiple groups. They are built to provide high-level information at a glance, offering general information about a group of data's symmetry, skew, variance, and outliers. So, I used box plot to get the maximum and minimum value with well sagreggated outliers with well defined mean and median as shown in the box plot graph."
      ],
      "metadata": {
        "id": "9-GBsMEqrGfg"
      }
    },
    {
      "cell_type": "markdown",
      "source": [
        "##### 2. What is/are the insight(s) found from the chart?"
      ],
      "metadata": {
        "id": "HZ6txCBBrGfh"
      }
    },
    {
      "cell_type": "markdown",
      "source": [
        "**Account Length**\n",
        "\n",
        "We can catagories Account Length into three catagories like \n",
        "\n",
        "**One Digit Length** \n",
        "\n",
        " Churn True -8.3%\n",
        "\n",
        " No. of Churn True-2\n",
        "\n",
        "\n",
        "\n",
        " Churn False-91.7%\n",
        "\n",
        "**Two Digit Length**\n",
        "\n",
        "Churn True -14.0% \n",
        "\n",
        "No. of Churn True-225\n",
        "\n",
        "\n",
        "\n",
        "Churn False-86.0%\n",
        "\n",
        "\n",
        "**Three Digit Length**\n",
        "\n",
        "Churn True -15.0% \n",
        "\n",
        "No. of Churn True-256\n",
        "\n",
        "\n",
        "\n",
        "Churn False-85.0%\n",
        "\n",
        "\n",
        "\n",
        "\n",
        "**REMARK**\n",
        "\n",
        "\n",
        "AS from the above  record, we can see that Two digit Account Length customers are churning with a number of 225 \n",
        "And Three digit Account Length customers are churning with a number of 256\n",
        "\n",
        "\n",
        "\n"
      ],
      "metadata": {
        "id": "9X7Ff9HFrGfh"
      }
    },
    {
      "cell_type": "markdown",
      "source": [
        "##### 3. Will the gained insights help creating a positive business impact? \n",
        "Are there any insights that lead to negative growth? Justify with specific reason."
      ],
      "metadata": {
        "id": "jbkhcZqdrGfh"
      }
    },
    {
      "cell_type": "markdown",
      "source": [
        "Accoun length is the no. of days the customers are active. So for the new customers those churning rate is too low around 8.3% in percentage and number is 2. They might be just using the telecom service to experience the benefits and they might not be satisfied with the service provided and churned. \n",
        "\n",
        "Those people whose account length are between 10 to 99 are having a churning rate of 15%. The customers below 50 might be treated as new customers and more than 55 and less than 99 they mightn't be geting benefits from plan taken. \n",
        "\n",
        "Those people whise account length are more than 100 are like of old customers and they might be churning due to no additional offers given to them like power plus plan or other benefits.\n",
        "\n",
        "So, Yes Account Length is also depicting a clear view of churing reasons and inaights."
      ],
      "metadata": {
        "id": "sZjMyjAHrGfh"
      }
    },
    {
      "cell_type": "markdown",
      "source": [
        "#### Chart - 4 - Area Code (Bivariate)"
      ],
      "metadata": {
        "id": "riLp7y9brHca"
      }
    },
    {
      "cell_type": "code",
      "source": [
        "# Chart - 4 visualization code\n",
        "# Area Code wise average churn Percentage\n",
        "print(dataset.groupby('Area code')['Churn'].mean()*100)\n",
        "print(\" \")\n",
        "\n",
        "# Visualizing code for Area Code wise average churn percentage\n",
        "a1= list(['408','415' , '510'])\n",
        "b1= dataset.groupby('Area code')['Churn'].mean()*100\n",
        "plt.bar(a1,b1, color=['r','b','g'])\n",
        "\n",
        "plt.rcParams['figure.figsize'] = (6, 5)\n",
        "\n",
        "\n",
        "plt.xlabel('Area code', fontsize = 15)\n",
        "plt.ylabel('churn percentage', fontsize = 15)\n",
        "plt.show()"
      ],
      "metadata": {
        "id": "QQ-DWHW5rHca"
      },
      "execution_count": null,
      "outputs": []
    },
    {
      "cell_type": "markdown",
      "source": [
        "##### 1. Why did you pick the specific chart?"
      ],
      "metadata": {
        "id": "Uw0GT_uHrHcb"
      }
    },
    {
      "cell_type": "markdown",
      "source": [
        "Bar charts show the frequency counts of values for the different levels of a categorical or nominal variable. Sometimes, bar charts show other statistics, such as percentages.\n",
        "\n",
        "To show the average percentage of true churn with respect to Area Code, I have used Bar Chart."
      ],
      "metadata": {
        "id": "R7c_a-IXrHcb"
      }
    },
    {
      "cell_type": "markdown",
      "source": [
        "##### 2. What is/are the insight(s) found from the chart?"
      ],
      "metadata": {
        "id": "qTEiGUKorHcc"
      }
    },
    {
      "cell_type": "markdown",
      "source": [
        "All Area Code have around 14% Churn rate. So, Area Code doesn't matter."
      ],
      "metadata": {
        "id": "a3rmtW3vrHcc"
      }
    },
    {
      "cell_type": "markdown",
      "source": [
        "##### 3. Will the gained insights help creating a positive business impact? \n",
        "Are there any insights that lead to negative growth? Justify with specific reason."
      ],
      "metadata": {
        "id": "1Qw8mtL3rHcd"
      }
    },
    {
      "cell_type": "markdown",
      "source": [
        "No, Area Code doesn't have any contribution to churn rate for 14% churn rate is same for all the area codes. But while furthur sagreggating the area codes with respective states in those area code, it can be analysed the states in which the issue is happeing. So, it has been defined above.\n",
        "\n",
        "So, here Area code won't help to create business impact but the respective states wise analysis can help."
      ],
      "metadata": {
        "id": "t7dguLynrHcd"
      }
    },
    {
      "cell_type": "markdown",
      "source": [
        "#### Chart - 5 - International Plan (Univariate + Bivariate)"
      ],
      "metadata": {
        "id": "xnMZvg2orIPt"
      }
    },
    {
      "cell_type": "code",
      "source": [
        "# Chart - 5 visualization code\n",
        "# Visualizing Percentage of customers taken international plan\n",
        "dataset['International plan'].value_counts().plot(kind='pie',\n",
        "                              figsize=(15,6),\n",
        "                               autopct=\"%1.1f%%\",\n",
        "                               startangle=90,\n",
        "                               shadow=True,\n",
        "                               labels=['No','Yes'],\n",
        "                               colors=['skyblue','red'],\n",
        "                               explode=[0,0]\n",
        "                              )"
      ],
      "metadata": {
        "id": "BIKEKoqErIPu"
      },
      "execution_count": null,
      "outputs": []
    },
    {
      "cell_type": "code",
      "source": [
        "# Assigning values for furthur charts\n",
        "i1 = dataset['International plan'].unique()\n",
        "i2 = dataset.groupby('International plan')['Churn'].mean()*100\n",
        "i3 = dataset.groupby(['International plan'])['Total intl charge'].mean()\n",
        "i4 = dataset.groupby([\"Churn\"])['Total intl minutes'].mean()"
      ],
      "metadata": {
        "id": "d7qDp535KTt2"
      },
      "execution_count": null,
      "outputs": []
    },
    {
      "cell_type": "code",
      "source": [
        "# Visualizing code for people churning percentage having international plan\n",
        "plt.rcParams['figure.figsize'] = (6, 7)\n",
        "\n",
        "plt.bar(i1,i2 , color=['b','r'])\n",
        "\n",
        "plt.title(\" Percentage of people leaving\", fontsize = 20)\n",
        "plt.xlabel('International plan', fontsize = 15)\n",
        "plt.ylabel('percentage', fontsize = 15)\n",
        "plt.show()"
      ],
      "metadata": {
        "id": "oW9Yv1-HKq7N"
      },
      "execution_count": null,
      "outputs": []
    },
    {
      "cell_type": "code",
      "source": [
        "# Visualizing code for average calling charge of customers having international plan\n",
        "plt.rcParams['figure.figsize'] = (6, 7)\n",
        "\n",
        "plt.bar(i1,i3, color=['b','r'])\n",
        "plt.title(\" Average charge of people\", fontsize = 20)\n",
        "plt.xlabel('International plan', fontsize = 15)\n",
        "plt.ylabel(' charge', fontsize = 15)\n",
        "plt.show()"
      ],
      "metadata": {
        "id": "mqNUqJmZK5Wz"
      },
      "execution_count": null,
      "outputs": []
    },
    {
      "cell_type": "code",
      "source": [
        "# Visualizing code for average minutes takled by customers having international plan\n",
        "plt.rcParams['figure.figsize'] = (6, 7)\n",
        "\n",
        "plt.bar(i1,i4, color=['b','r'])\n",
        "plt.title(\" Average minute people talk\", fontsize = 20)\n",
        "plt.xlabel('International plan', fontsize = 15)\n",
        "plt.ylabel(' Minutes', fontsize = 15)\n",
        "plt.show()"
      ],
      "metadata": {
        "id": "3Fwfpl4aLI89"
      },
      "execution_count": null,
      "outputs": []
    },
    {
      "cell_type": "markdown",
      "source": [
        "##### 1. Why did you pick the specific chart?"
      ],
      "metadata": {
        "id": "mwHQVoIQrIPu"
      }
    },
    {
      "cell_type": "markdown",
      "source": [
        "Pie charts are used to represent the proportional data or relative data in a single chart. The concept of pie slices is used to show the percentage of a particular data from the whole pie.\n",
        "\n",
        "Thus, I used to show the percentage of people taken international plan through pie chart with differentr colored area under a circle.\n",
        "\n",
        "A bar chart is used when you want to show a distribution of data points or perform a comparison of metric values across different subgroups of your data. From a bar chart, we can see which groups are highest or most common, and how other groups compare against the others.\n",
        "\n",
        "Thus, I used bar chart to show the percentage of customers churned having international plan and the avergae calling charge as well as conversation average minutes of customers those have international plan."
      ],
      "metadata": {
        "id": "_OS83_DorIPu"
      }
    },
    {
      "cell_type": "markdown",
      "source": [
        "##### 2. What is/are the insight(s) found from the chart?"
      ],
      "metadata": {
        "id": "Kwy5hImkrIPu"
      }
    },
    {
      "cell_type": "markdown",
      "source": [
        "**INTERNATIONAL PLAN**\n",
        "\n",
        "3010 dont have a international plan\n",
        "\n",
        "323 have a international plan\n",
        "\n",
        "Among those who  have a international plan 42.4 % people churn.\n",
        "\n",
        "Whereas among those who dont have a international plan  only 11.4 % people churn.\n",
        "\n",
        "Among those who  have a international plan their average charge is 2.86 and they talk for 10.7 minutes average .\n",
        "\n",
        "Whereas among those who dont have a international plan their average charge is 2.75 and they talk for 10.15 minutes average .\n",
        "\n",
        "The reason why people having international plan might be leaving is that they are [paying same amount of money for international calls as for those customers who dont have a international plan.Hence they arent getting any benefits for having an international plan so they might be unhappy. \n",
        "\n",
        "\n",
        "***Customers with the International Plan tend to churn more frequently ***\n"
      ],
      "metadata": {
        "id": "v29pTB30rIPu"
      }
    },
    {
      "cell_type": "markdown",
      "source": [
        "##### 3. Will the gained insights help creating a positive business impact? \n",
        "Are there any insights that lead to negative growth? Justify with specific reason."
      ],
      "metadata": {
        "id": "0sjxqkK0rIPv"
      }
    },
    {
      "cell_type": "markdown",
      "source": [
        "Yes, the insights found will definitely help for a positive business impact. Thsoe people who  have international plan they are paying some additional charges to get the plan but the talk time value charge is same as those customers having no international plan. That's might be great reason for more churns those having international plan."
      ],
      "metadata": {
        "id": "q3Py5eq2rIPv"
      }
    },
    {
      "cell_type": "markdown",
      "source": [
        "#### Chart - 6 - Voice Mail (Univariate + Bivariate)"
      ],
      "metadata": {
        "id": "y7avNpR9HL5z"
      }
    },
    {
      "cell_type": "code",
      "source": [
        "# Chart - 5 visualization code\n",
        "# vizualizing code for customers percentage having voice mail plan\n",
        "dataset['Voice mail plan'].value_counts().plot(kind='pie',\n",
        "                              figsize=(15,6),\n",
        "                               autopct=\"%1.1f%%\",\n",
        "                               startangle=90,\n",
        "                               shadow=True,\n",
        "                               labels=['No','Yes'],\n",
        "                               colors=['skyblue','red'],\n",
        "                               explode=[0,0]\n",
        "                              )"
      ],
      "metadata": {
        "id": "XupyxJMCHL50"
      },
      "execution_count": null,
      "outputs": []
    },
    {
      "cell_type": "code",
      "source": [
        "# Vizualizing code for customers churning while having voice mail plan\n",
        "plt.rcParams['figure.figsize'] = (6, 7)\n",
        "\n",
        "cc1=list(['no','yes'])\n",
        "cc2=dataset.groupby('Voice mail plan')['Churn'].mean()*100\n",
        "plt.bar(cc1,cc2, color=['b','r'])\n",
        "\n",
        "plt.title(\" Percentage of people leaving\", fontsize = 20)\n",
        "plt.xlabel('Voice mail plan', fontsize = 15)\n",
        "plt.ylabel('percentage', fontsize = 15)\n",
        "plt.show()"
      ],
      "metadata": {
        "id": "QBRu1D9eP37x"
      },
      "execution_count": null,
      "outputs": []
    },
    {
      "cell_type": "markdown",
      "source": [
        "##### 1. Why did you pick the specific chart?"
      ],
      "metadata": {
        "id": "Z5yPuW4iHL50"
      }
    },
    {
      "cell_type": "markdown",
      "source": [
        "Pie chart is a type of graph in which a circle is divided into sectors that each represents a proportion of the whole. Pie charts are a useful way to organize data in order to see the size of components relative to the whole, and are particularly good at showing percentage or proportional data.\n",
        "\n",
        "Thus, I have used pie chart to show the percentage of customers having voice mail plan.\n",
        "\n",
        "The bar graph is used to compare the items between different groups over time. Bar graphs are used to measure the changes over a period of time.\n",
        "\n",
        "Thus, I have used bar chart to show the percentage of customers churned having voice mail plan."
      ],
      "metadata": {
        "id": "e2Vj3xyvHL50"
      }
    },
    {
      "cell_type": "markdown",
      "source": [
        "##### 2. What is/are the insight(s) found from the chart?"
      ],
      "metadata": {
        "id": "3vIdo55JHL50"
      }
    },
    {
      "cell_type": "markdown",
      "source": [
        "**VOICE MAIL**\n",
        "\n",
        "2411 dont have a voice mail plan\n",
        "\n",
        "922 have a voice mail plan\n",
        "\n",
        "Among those who dont have a voice mail 16.7 % people churn.\n",
        "\n",
        "Whereas among those who have a voice mail plan only 8.7 % people churn.\n",
        "\n",
        "**Hypothesis Based on Voice Mail**\n",
        "* Customers sending less number of voicemails either as per their Requirement or There would be less Network Stability at that place for which they won't be able to send the voice message successfully.\n",
        "\n",
        "***Customers  with the Voice Mail Plan tend to churn less frequently ***"
      ],
      "metadata": {
        "id": "_TwmLyT0HL51"
      }
    },
    {
      "cell_type": "markdown",
      "source": [
        "##### 3. Will the gained insights help creating a positive business impact? \n",
        "Are there any insights that lead to negative growth? Justify with specific reason."
      ],
      "metadata": {
        "id": "IlhlbgNBHL51"
      }
    },
    {
      "cell_type": "markdown",
      "source": [
        "Voice mail plan doesn't have that much impact in business untill the hypothesis has been proven. If the hypothesis remains true, we need to take care of the respective states where there is less network stability or the states the towers needs either maintainance or new towers should be installed.\n",
        "\n",
        "yes, voice mail plan might be considered partially."
      ],
      "metadata": {
        "id": "zecN6W5IHL51"
      }
    },
    {
      "cell_type": "markdown",
      "source": [
        "#### Chart - 7- Overall Calls (Bivariate)"
      ],
      "metadata": {
        "id": "oQ-pHCWMHO92"
      }
    },
    {
      "cell_type": "code",
      "source": [
        "# Chart - 7 visualization code\n",
        "# Geeting means of churn vs total day calls, total day minutes, total day charge\n",
        "print(dataset.groupby([\"Churn\"])['Total day calls'].mean())\n",
        "print(\" \")\n",
        "print(dataset.groupby([\"Churn\"])['Total day minutes'].mean())\n",
        "print(\" \")\n",
        "print(dataset.groupby([\"Churn\"])['Total day charge'].mean())\n",
        "\n",
        "# 18% more min    18% more charge    no insight"
      ],
      "metadata": {
        "id": "Eb_s6DRSHO92"
      },
      "execution_count": null,
      "outputs": []
    },
    {
      "cell_type": "code",
      "source": [
        "# Vizualizing Total day minutes vs total day charge\n",
        "cdd = sns.scatterplot(x=\"Total day minutes\", y=\"Total day charge\", hue=\"Churn\", data=dataset)\n"
      ],
      "metadata": {
        "id": "t0PdOrzhWIQ0"
      },
      "execution_count": null,
      "outputs": []
    },
    {
      "cell_type": "code",
      "source": [
        "# Geeting means of churn vs total eve calls, total eve minutes, total evening charge\n",
        "print(dataset.groupby([\"Churn\"])['Total eve calls'].mean())\n",
        "print(\" \")\n",
        "print(dataset.groupby([\"Churn\"])['Total eve minutes'].mean())\n",
        "print(\" \")\n",
        "print(dataset.groupby([\"Churn\"])['Total eve charge'].mean())"
      ],
      "metadata": {
        "id": "Tm1L8efQW8io"
      },
      "execution_count": null,
      "outputs": []
    },
    {
      "cell_type": "code",
      "source": [
        "# Vizualizing total evening minutes vs total evening charge\n",
        "cdd = sns.scatterplot(x=\"Total eve minutes\", y=\"Total eve charge\", hue=\"Churn\", data=dataset)"
      ],
      "metadata": {
        "id": "IULag4EwXLhy"
      },
      "execution_count": null,
      "outputs": []
    },
    {
      "cell_type": "code",
      "source": [
        "# Getting means of churn vs total night calls, total m=night minutes, total night charge\n",
        "print(dataset.groupby([\"Churn\"])['Total night calls'].mean())\n",
        "print(\" \")\n",
        "print(dataset.groupby([\"Churn\"])['Total night minutes'].mean())\n",
        "print(\" \")\n",
        "print(dataset.groupby([\"Churn\"])['Total night charge'].mean())"
      ],
      "metadata": {
        "id": "eKadu2ppYZ10"
      },
      "execution_count": null,
      "outputs": []
    },
    {
      "cell_type": "code",
      "source": [
        "# Vizualizing Total nights minutes vs total night charge\n",
        "cdd = sns.scatterplot(x=\"Total night minutes\", y=\"Total night charge\", hue=\"Churn\", data=dataset)"
      ],
      "metadata": {
        "id": "9GDJxQSqZGez"
      },
      "execution_count": null,
      "outputs": []
    },
    {
      "cell_type": "code",
      "source": [
        "# Import pandas library \n",
        "import pandas as pd \n",
        "\n",
        "# initialize list of lists \n",
        "data1 = [['Total day minutes',175.17 , 206.91], ['Total day charge',29.78, 35.17]] \n",
        "\n",
        "#7.012,6.12,6.86\n",
        "\n",
        "# Create the pandas DataFrame \n",
        "minutes_code1 = pd.DataFrame(data1, columns = ['day', 'dont churn',' churn']) \n",
        "\n",
        "# print dataframe. \n",
        "minutes_code1"
      ],
      "metadata": {
        "id": "OQ6Qw_uvZn7o"
      },
      "execution_count": null,
      "outputs": []
    },
    {
      "cell_type": "code",
      "source": [
        "# Vizualizing code for the above created dataframe\n",
        "plt.rcParams['figure.figsize'] = (8, 6)\n",
        "\n",
        "\n",
        "minutes_code1.plot(kind='bar', x='day',ylabel='mean  ')"
      ],
      "metadata": {
        "id": "V13A3eLlanO8"
      },
      "execution_count": null,
      "outputs": []
    },
    {
      "cell_type": "code",
      "source": [
        "# Import pandas library \n",
        "import pandas as pd \n",
        "\n",
        "# initialize list of lists \n",
        "data2 = [ ['Total eve minutes',199.04, 212.41], ['Total night minutes',200.13,205.23]] \n",
        "\n",
        "#7.012,6.12,6.86\n",
        "\n",
        "# Create the pandas DataFrame \n",
        "minutes_code2 = pd.DataFrame(data2, columns = ['minutes', 'dont churn',' churn']) \n",
        "\n",
        "# print dataframe. \n",
        "minutes_code2"
      ],
      "metadata": {
        "id": "0s1VWK8SbCb4"
      },
      "execution_count": null,
      "outputs": []
    },
    {
      "cell_type": "code",
      "source": [
        "# Vizualizing teh above created dataframe\n",
        "plt.rcParams['figure.figsize'] = (8,6)\n",
        "\n",
        "\n",
        "minutes_code2.plot(kind='bar', x='minutes',xlabel='minutes',ylabel='mean of churn ')"
      ],
      "metadata": {
        "id": "HUmuyd_ObEYq"
      },
      "execution_count": null,
      "outputs": []
    },
    {
      "cell_type": "code",
      "source": [
        "# Import pandas library \n",
        "import pandas as pd \n",
        "\n",
        "# initialize list of lists \n",
        "data3 = [ ['Total eve charge',16.91, 18.05], ['Total night charge',9,9.23]] \n",
        "\n",
        "#7.012,6.12,6.86\n",
        "\n",
        "# Create the pandas DataFrame \n",
        "minutes_code3 = pd.DataFrame(data3, columns = ['charge', 'dont churn',' churn']) \n",
        "\n",
        "# print dataframe. \n",
        "minutes_code3"
      ],
      "metadata": {
        "id": "p-IqLU4UbLcA"
      },
      "execution_count": null,
      "outputs": []
    },
    {
      "cell_type": "code",
      "source": [
        "# Vizualizing code for the above dataset\n",
        "plt.rcParams['figure.figsize'] = (8,6)\n",
        "\n",
        "\n",
        "minutes_code3.plot(kind='bar', x='charge',ylabel='mean charge')"
      ],
      "metadata": {
        "id": "RGjFvhbbbTcQ"
      },
      "execution_count": null,
      "outputs": []
    },
    {
      "cell_type": "markdown",
      "source": [
        "##### 1. Why did you pick the specific chart?"
      ],
      "metadata": {
        "id": "DEMFeE18HO92"
      }
    },
    {
      "cell_type": "markdown",
      "source": [
        "A scatter plot (aka scatter chart, scatter graph) uses dots to represent values for two different numeric variables. The position of each dot on the horizontal and vertical axis indicates values for an individual data point. Scatter plots are used to observe relationships between variables.\n",
        "\n",
        "Thus, I have used the scatter plot to depict the relationship between evening, day &n night calls , minutes and charge.\n",
        "\n",
        "The bar graph is used to compare the items between different groups over time. Bar graphs are used to measure the changes over a period of time. When the changes are larger, a bar graph is the best option to represent the data.\n",
        "\n",
        "Thus, I have used the bar plot to show the evening, night and day manipulated data to depict meaningful insights."
      ],
      "metadata": {
        "id": "zyFFR4BgHO92"
      }
    },
    {
      "cell_type": "markdown",
      "source": [
        "##### 2. What is/are the insight(s) found from the chart?"
      ],
      "metadata": {
        "id": "MR3eS7xTHO93"
      }
    },
    {
      "cell_type": "markdown",
      "source": [
        "**OVERALL CALLS**\n",
        "\n",
        "Churn customers speak more minutes that non-churn customers at day,evening and night. Hence they pay more charge that non-churn customers.\n",
        "\n",
        "We can retain churn customers if we include master plan.\n",
        "In master plan if a customer is talking more minutes then we can charge a little less amount from him or he can get discount or additional few free minutes to talk.\n",
        "\n",
        "This will make customers who are going to churn happy and they will not leave the company."
      ],
      "metadata": {
        "id": "0neckRpZHO93"
      }
    },
    {
      "cell_type": "markdown",
      "source": [
        "##### 3. Will the gained insights help creating a positive business impact? \n",
        "Are there any insights that lead to negative growth? Justify with specific reason."
      ],
      "metadata": {
        "id": "JmI1Y4YbHO93"
      }
    },
    {
      "cell_type": "markdown",
      "source": [
        "For telecom service provider calling and messaging are two essential product plans. Thus, optimizing voice call plans will definitely create a business impact. Those who are using just calling service must be provided som additional offers either in talktime or powerplus plan. Those who use voice call plan for night only, we might offer some exciting plans from midnight 12 to morning 6. For customers those who have higher accout length should be provided exciting offers as they are our loyal customers. churing of higher account length customer will have a negative impact on business.\n"
      ],
      "metadata": {
        "id": "OgeOEDgIHO93"
      }
    },
    {
      "cell_type": "markdown",
      "source": [
        "#### Chart - 8 - Customer Service Calls (Bivariate)"
      ],
      "metadata": {
        "id": "XGShqbS2HSAY"
      }
    },
    {
      "cell_type": "code",
      "source": [
        "# Chart - 8 visualization code\n",
        "# Visualizing churn rate per customer service calls\n",
        "plt.rcParams['figure.figsize'] = (12, 8)\n",
        "\n",
        "\n",
        "s1=list(dataset['Customer service calls'].unique())\n",
        "s2=list(dataset.groupby(['Customer service calls'])['Churn'].mean()*100)\n",
        "plt.bar(s1,s2, color = ['violet','indigo','b','g','y','orange','r'])\n",
        "\n",
        "\n",
        "plt.title(\" Churn rate per service call\", fontsize = 20)\n",
        "plt.xlabel('No of cust service call', fontsize = 15)\n",
        "plt.ylabel(' percentage', fontsize = 15)\n",
        "plt.show()\n"
      ],
      "metadata": {
        "id": "-6GTfuViHSAY"
      },
      "execution_count": null,
      "outputs": []
    },
    {
      "cell_type": "markdown",
      "source": [
        "##### 1. Why did you pick the specific chart?"
      ],
      "metadata": {
        "id": "B4XxyvTzHSAZ"
      }
    },
    {
      "cell_type": "markdown",
      "source": [
        "The bar graph is used to compare the items between different groups over time. Bar graphs are used to measure the changes over a period of time. When the changes are larger, a bar graph is the best option to represent the data.\n",
        "\n",
        "Thus, I have used the bar plot to show the relationship between churn rate per customer service calls."
      ],
      "metadata": {
        "id": "xBXFKddDHSAZ"
      }
    },
    {
      "cell_type": "markdown",
      "source": [
        "##### 2. What is/are the insight(s) found from the chart?"
      ],
      "metadata": {
        "id": "Mal1wQlpHSAZ"
      }
    },
    {
      "cell_type": "markdown",
      "source": [
        "**CUSTOMER SERVICE CALL**\n",
        "\n",
        "The service calls of customers varies from 0 to 9 . \n",
        "\n",
        "Those customers who make more service calls they have a high probability of leaving.\n",
        "\n",
        "As we can see from graph , customers with more then 5 service calls their probability of leaving is more then 50 %.\n",
        "\n",
        "Hence customers who make more then 5 service calls, their queries should be solved immediately and they should be given better service so that they dont leave the company.\n",
        "\n",
        "***Customers with four or more customer service calls churn more than four times as often as do the other customers***"
      ],
      "metadata": {
        "id": "pxwDuAqQHSAZ"
      }
    },
    {
      "cell_type": "markdown",
      "source": [
        "##### 3. Will the gained insights help creating a positive business impact? \n",
        "Are there any insights that lead to negative growth? Justify with specific reason."
      ],
      "metadata": {
        "id": "BgP_e3WlHSAZ"
      }
    },
    {
      "cell_type": "markdown",
      "source": [
        "Customer service is an essential factor for every business. SO definitely good customer service will have a positive impact to the business. We have to look afted the customer calls and customer query report resolution duration. Need to optimize the time period. If one type of issue is coming from more than 5 customers, root cause analysis should be done on that same issue and should be resolved for everyone.\n",
        "Need to reduce the calls for each customer and he should be satisfied in a single call only. The customer service agents should be given great offer or recognition over great performance of customer issue resolution."
      ],
      "metadata": {
        "id": "15jESfbyHSAZ"
      }
    },
    {
      "cell_type": "markdown",
      "source": [
        "#### Chart - 9 - Column wise Histogram & Box Plot Univariate Analysis"
      ],
      "metadata": {
        "id": "I3aNiIh9fKqZ"
      }
    },
    {
      "cell_type": "code",
      "source": [
        "# Chart - 9 visualization code\n",
        "# Visualizing code of hist plot for each columns to know the data distibution\n",
        "for col in dataset.describe().columns:\n",
        "  fig=plt.figure(figsize=(9,6))\n",
        "  ax=fig.gca()\n",
        "  feature= (dataset[col])\n",
        "  sns.distplot(dataset[col])\n",
        "  ax.axvline(feature.mean(),color='magenta', linestyle='dashed', linewidth=2)\n",
        "  ax.axvline(feature.median(),color='cyan', linestyle='dashed', linewidth=2)\n",
        "  ax.set_title(col)\n",
        "plt.show()\n",
        "\n",
        "# Visualizing code of box plot for each columns to know the data distibution\n",
        "for col in dataset.describe().columns:\n",
        "    fig = plt.figure(figsize=(9, 6))\n",
        "    ax = fig.gca()\n",
        "    dataset.boxplot( col, ax = ax)\n",
        "    ax.set_title('Label by ' + col)\n",
        "    #ax.set_ylabel(\"Churn\")\n",
        "plt.show()\n"
      ],
      "metadata": {
        "id": "WPVINT_UfKqa"
      },
      "execution_count": null,
      "outputs": []
    },
    {
      "cell_type": "markdown",
      "source": [
        "##### 1. Why did you pick the specific chart?"
      ],
      "metadata": {
        "id": "hTF1e9PwfKqa"
      }
    },
    {
      "cell_type": "markdown",
      "source": [
        "The histogram is a popular graphing tool. It is used to summarize discrete or continuous data that are measured on an interval scale. It is often used to illustrate the major features of the distribution of the data in a convenient form. It is also useful when dealing with large data sets (greater than 100 observations). It can help detect any unusual observations (outliers) or any gaps in the data.\n",
        "\n",
        "Thus, I used the histogram plot to analysis the variable distributions over the whole dataset whether it's symmetric or not.\n",
        "\n",
        "Box plots are used to show distributions of numeric data values, especially when you want to compare them between multiple groups. They are built to provide high-level information at a glance, offering general information about a group of data's symmetry, skew, variance, and outliers.\n",
        "\n",
        "Thus, for each numerical varibale in the given dataset, I used box plot to analyse the outliers and interquartile range including mean, median, maximum and minimum value."
      ],
      "metadata": {
        "id": "XOYaZpKpfKqa"
      }
    },
    {
      "cell_type": "markdown",
      "source": [
        "##### 2. What is/are the insight(s) found from the chart?"
      ],
      "metadata": {
        "id": "1xrBLU6IfKqa"
      }
    },
    {
      "cell_type": "markdown",
      "source": [
        "Almost all columns are symmetric distributed and mean is nearly same with median for numerical columns. Here Area code will be treated as text values as there are only 3 values in the particular column."
      ],
      "metadata": {
        "id": "rrwjuBlHfKqb"
      }
    },
    {
      "cell_type": "markdown",
      "source": [
        "##### 3. Will the gained insights help creating a positive business impact? \n",
        "Are there any insights that lead to negative growth? Justify with specific reason."
      ],
      "metadata": {
        "id": "yiLHMWFSfKqb"
      }
    },
    {
      "cell_type": "markdown",
      "source": [
        "Just a histogram and box plot cannot define business impact. It's done just to see the distribution of the column data over the dataset."
      ],
      "metadata": {
        "id": "7cTtRDwufKqb"
      }
    },
    {
      "cell_type": "markdown",
      "source": [
        "#### Chart - 10 - Correlation Heatmap"
      ],
      "metadata": {
        "id": "NC_X3p0fY2L0"
      }
    },
    {
      "cell_type": "code",
      "source": [
        "# Correlation Heatmap visualization code\n",
        "corr = dataset.corr()\n",
        "cmap = cmap=sns.diverging_palette(5, 250, as_cmap=True)\n",
        "\n",
        "def magnify():\n",
        "    return [dict(selector=\"th\",\n",
        "                 props=[(\"font-size\", \"7pt\")]),\n",
        "            dict(selector=\"td\",\n",
        "                 props=[('padding', \"0em 0em\")]),\n",
        "            dict(selector=\"th:hover\",\n",
        "                 props=[(\"font-size\", \"12pt\")]),\n",
        "            dict(selector=\"tr:hover td:hover\",\n",
        "                 props=[('max-width', '200px'),\n",
        "                        ('font-size', '12pt')])\n",
        "]\n",
        "\n",
        "corr.style.background_gradient(cmap, axis=1)\\\n",
        "    .set_properties(**{'max-width': '80px', 'font-size': '10pt'})\\\n",
        "    .set_caption(\"Hover to magify\")\\\n",
        "    .set_precision(2)\\\n",
        "    .set_table_styles(magnify())"
      ],
      "metadata": {
        "id": "xyC9zolEZNRQ"
      },
      "execution_count": null,
      "outputs": []
    },
    {
      "cell_type": "markdown",
      "source": [
        "##### 1. Why did you pick the specific chart?"
      ],
      "metadata": {
        "id": "UV0SzAkaZNRQ"
      }
    },
    {
      "cell_type": "markdown",
      "source": [
        "A correlation matrix is a table showing correlation coefficients between variables. Each cell in the table shows the correlation between two variables. A correlation matrix is used to summarize data, as an input into a more advanced analysis, and as a diagnostic for advanced analyses. The range of correlation is [-1,1].\n",
        "\n",
        "Thus to know the correlation between all the variables along with the correlation coeficients, i used correlation heatmap."
      ],
      "metadata": {
        "id": "DVPuT8LYZNRQ"
      }
    },
    {
      "cell_type": "markdown",
      "source": [
        "##### 2. What is/are the insight(s) found from the chart?"
      ],
      "metadata": {
        "id": "YPEH6qLeZNRQ"
      }
    },
    {
      "cell_type": "markdown",
      "source": [
        "From the above correlation heatmap, we can see total day charge & total day minute, total evening charge & total evening minute, total night charge & total night minute are positiveliy highly correlated with a value of 1.\n",
        "\n",
        "Customer service call is positively correlated only with area code and negative correlated with rest variables.\n",
        "\n",
        "Rest all correlation can be depicted from the above chart.\n"
      ],
      "metadata": {
        "id": "bfSqtnDqZNRR"
      }
    },
    {
      "cell_type": "markdown",
      "source": [
        "#### Chart - 11 - Pair Plot "
      ],
      "metadata": {
        "id": "q29F0dvdveiT"
      }
    },
    {
      "cell_type": "code",
      "source": [
        "# Pair Plot visualization code\n",
        "sns.pairplot(dataset, hue=\"Churn\")"
      ],
      "metadata": {
        "id": "o58-TEIhveiU"
      },
      "execution_count": null,
      "outputs": []
    },
    {
      "cell_type": "markdown",
      "source": [
        "##### 1. Why did you pick the specific chart?"
      ],
      "metadata": {
        "id": "EXh0U9oCveiU"
      }
    },
    {
      "cell_type": "markdown",
      "source": [
        "Pair plot is used to understand the best set of features to explain a relationship between two variables or to form the most separated clusters. It also helps to form some simple classification models by drawing some simple lines or make linear separation in our data-set.\n",
        "\n",
        "Thus, I used pair plot to analyse the patterns of data and realationship between the features. It's exactly same as the correlation map but here you will get the graphical representation."
      ],
      "metadata": {
        "id": "eMmPjTByveiU"
      }
    },
    {
      "cell_type": "markdown",
      "source": [
        "##### 2. What is/are the insight(s) found from the chart?"
      ],
      "metadata": {
        "id": "22aHeOlLveiV"
      }
    },
    {
      "cell_type": "markdown",
      "source": [
        "From the above chart I got to know, there are less linear relationship between variables and data poiunts aren't linearly separable. Churned customers data is clusetered and ovearlapped each other. Non churn data are quite symmetrical in nature and churned customer data are quite non symmetric in nature. In this whole pair plot, the importance of area code can be seen and the number of churn with respect to different features are really insightful. Rest insights can be depicted from the above graph."
      ],
      "metadata": {
        "id": "uPQ8RGwHveiV"
      }
    },
    {
      "cell_type": "markdown",
      "source": [
        "## **5. Solution to Business Objective**"
      ],
      "metadata": {
        "id": "JcMwzZxoAimU"
      }
    },
    {
      "cell_type": "markdown",
      "source": [
        "#### What do you suggest the client to achieve Business Objective ? \n",
        "Explain Briefly."
      ],
      "metadata": {
        "id": "8G2x9gOozGDZ"
      }
    },
    {
      "cell_type": "markdown",
      "source": [
        "**Solution to Reduce Customer Churn**\n",
        "\n",
        "*\tModify International Plan as the charge is same as normal one.\n",
        "*\tBe proactive with communication.\n",
        "*\tAsk for feedback often.\n",
        "*\tPeriodically throw Offers to retain customers.\n",
        "*\tLook at the customers facing problem in  the most churning states.\n",
        "*\tLean into  best customers. \n",
        "*\tRegular Server Maintenance.\n",
        "*\tSolving Poor Network Connectivity Issue.\n",
        "*\tDefine a roadmap for new customers.\n",
        "*\tAnalyze churn when it happens.\n",
        "*\tStay competitive.\n",
        "\n",
        "\n"
      ],
      "metadata": {
        "id": "pASKb0qOza21"
      }
    },
    {
      "cell_type": "markdown",
      "source": [
        "# **Conclusion**"
      ],
      "metadata": {
        "id": "gCX9965dhzqZ"
      }
    },
    {
      "cell_type": "markdown",
      "source": [
        "•\tThe four charge fields are linear functions of the minute fields.\n",
        "\n",
        "•\tThe area code field and/or the state field are anomalous, and can be omitted.\n",
        "\n",
        "•\tCustomers with the International Plan tend to churn more frequently.\n",
        "\n",
        "•\tCustomers with four or more customer service calls churn more than four times as often as do the other customers.\n",
        "\n",
        "•\tCustomers with high day minutes and evening minutes tend to churn at a higher rate than do the other customers.\n",
        "\n",
        "•\tThere is no obvious association of churn with the variables day calls, evening calls, night calls, international calls, night minutes, international minutes, account length, or voice mail messages.\n",
        "\n"
      ],
      "metadata": {
        "id": "Fjb1IsQkh3yE"
      }
    },
    {
      "cell_type": "markdown",
      "source": [
        "### ***Hurrah! You have successfully completed your EDA Capstone Project !!!***"
      ],
      "metadata": {
        "id": "gIfDvo9L0UH2"
      }
    }
  ]
}